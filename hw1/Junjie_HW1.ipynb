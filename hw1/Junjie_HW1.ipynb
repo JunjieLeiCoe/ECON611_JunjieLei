{
 "cells": [
  {
   "cell_type": "markdown",
   "metadata": {},
   "source": [
    "\n",
    "JunjieLei ECON611 HW1\n",
    "---"
   ]
  },
  {
   "cell_type": "code",
   "execution_count": 2,
   "metadata": {},
   "outputs": [],
   "source": [
    "# loading packages\n",
    "import json\n",
    "import re"
   ]
  },
  {
   "cell_type": "markdown",
   "metadata": {},
   "source": [
    "## Warm-Up\n",
    "---"
   ]
  },
  {
   "cell_type": "markdown",
   "metadata": {},
   "source": [
    "### warmup 1"
   ]
  },
  {
   "cell_type": "code",
   "execution_count": 13,
   "metadata": {},
   "outputs": [
    {
     "name": "stdout",
     "output_type": "stream",
     "text": [
      "dlrow olleh\n",
      "dlrow olleh\n",
      "iuhuhz\n"
     ]
    }
   ],
   "source": [
    "# 2 ways we can do this \n",
    "inp = \"hello world\"\n",
    "# --------------------------\n",
    "inp = inp[::-1] \n",
    "print(inp)\n",
    "\n",
    "# --------------------------\n",
    "\n",
    "\n",
    "def rverse_wd(inp):\n",
    "    index = 0\n",
    "    indexR = -1\n",
    "    reverse_str = \"\"\n",
    "    \n",
    "    while index < len(inp):\n",
    "        reverse_str += (inp[indexR])\n",
    "        index += 1 \n",
    "        indexR -= 1\n",
    "    return reverse_str\n",
    "\n",
    "\n",
    "\n",
    "# test function\n",
    "inp = \"hello world\"\n",
    "print(rverse_wd(inp))\n",
    "\n",
    "inp2 = \"zhuhui\"\n",
    "print(rverse_wd(inp2))\n",
    "\n"
   ]
  },
  {
   "cell_type": "markdown",
   "metadata": {},
   "source": [
    "### warmup 2"
   ]
  },
  {
   "cell_type": "code",
   "execution_count": 12,
   "metadata": {},
   "outputs": [
    {
     "name": "stdout",
     "output_type": "stream",
     "text": [
      "['hello worldhello worldhello worldhello worldhello worldhello world', 'ECON611abcECON611abcECON611abcECON611abcECON611abcECON611abc', 'defdefdefdefdefdef']\n",
      "['aaaaaa', 'hellohellohellohellohellohello']\n",
      "['namenamenamenamenamename', 'othersothersothersothersothersothers']\n"
     ]
    }
   ],
   "source": [
    "\n",
    "def str6repeat(inp):\n",
    "\n",
    "    mylst = []\n",
    "    index = 0\n",
    "    \n",
    "    while index < len(inp):\n",
    "        mylst.append(inp[index]*6)\n",
    "        index += 1\n",
    "    return mylst\n",
    "\n",
    "\n",
    "\n",
    "# test\n",
    "inp = ['hello world', 'ECON611' 'abc', 'def']\n",
    "print (str6repeat(inp))\n",
    "\n",
    "inp = [\"a\", 'hello']\n",
    "print(str6repeat(inp))\n",
    "\n",
    "inp2 = [\"name\", \"others\"]\n",
    "print(str6repeat(inp2))\n",
    "    "
   ]
  },
  {
   "cell_type": "markdown",
   "metadata": {},
   "source": [
    "### warmup 3"
   ]
  },
  {
   "cell_type": "code",
   "execution_count": 10,
   "metadata": {},
   "outputs": [
    {
     "name": "stdout",
     "output_type": "stream",
     "text": [
      "[(None, None), ('o', 'o'), ('i', 'i'), ('e', 'e'), ('e', 'u')]\n",
      "[('o', 'a'), ('i', 'i'), ('a', 'a'), ('o', 'o'), ('a', 'a')]\n"
     ]
    }
   ],
   "source": [
    "def find_vowel_head(mystr):\n",
    "    for index_s in range (len(mystr)):\n",
    "        if mystr[index_s] in 'aeiou':\n",
    "            return mystr[index_s]\n",
    "        else:\n",
    "            index_s += 1\n",
    "    return None\n",
    "\n",
    "def find_vowel_tail(mystr):\n",
    "    index_t = -1\n",
    "    while index_t >= -len(mystr):\n",
    "        if mystr[index_t] in 'aeiou':\n",
    "            return mystr[index_t]\n",
    "        else: \n",
    "            index_t -=1\n",
    "    return None\n",
    "\n",
    "def hunt_vowel(inp):\n",
    "    str = inp.split(\" \")\n",
    "    vowelLst = []\n",
    "    \n",
    "    for i in range (0, len(str), 1):\n",
    "        fvowel = find_vowel_head(str[i])\n",
    "        lstvowel = find_vowel_tail(str[i])\n",
    "        myvowel = (fvowel, lstvowel)\n",
    "        vowelLst.append(myvowel)\n",
    "    return vowelLst\n",
    "\n",
    "# Or we can call the rverse_wd function to reverse the order of the word; then we parse the same string for 2 times;\n",
    "\n",
    "\n",
    "   \n",
    "# test    \n",
    "inp = \"my dog is extremely beautiful\"\n",
    "print(hunt_vowel(inp))\n",
    "\n",
    "inp2 = \"today is a good day\"\n",
    "print(hunt_vowel(inp2))\n",
    "        \n",
    "    \n"
   ]
  },
  {
   "cell_type": "markdown",
   "metadata": {},
   "source": [
    "### warmup 3"
   ]
  },
  {
   "cell_type": "code",
   "execution_count": 63,
   "metadata": {},
   "outputs": [
    {
     "name": "stdout",
     "output_type": "stream",
     "text": [
      "Econmics\n"
     ]
    }
   ],
   "source": [
    "def rmRepeats(inp):\n",
    "    myLst = []\n",
    "    myStr = ''\n",
    "    \n",
    "    for i in range (0,len(inp),1): \n",
    "        if inp[i].lower() == inp[i-1].lower():   # transfer all to lowercase and check if they are hte same\n",
    "            pass\n",
    "        else: \n",
    "            myStr += inp[i]\n",
    "    return (myStr)\n",
    "\n",
    "    \n",
    "# test\n",
    "inp = \"EeeeeeccccccconnnnnnnnNNNNNNmmmmmMMMMMiiiiiiiIIIIcccCCCCs\"\n",
    "print(rmRepeats(inp))\n",
    "        "
   ]
  },
  {
   "cell_type": "markdown",
   "metadata": {},
   "source": [
    "### Problem 1"
   ]
  },
  {
   "cell_type": "code",
   "execution_count": 22,
   "metadata": {},
   "outputs": [
    {
     "name": "stdout",
     "output_type": "stream",
     "text": [
      "------------------------------ MENU ------------------------------\n",
      "1. Show All Titles\n",
      "2. Show All Date of Publish\n",
      "3. Show All Citated Auhthors\n",
      "4. Show All Abstracts: Caution!! might overflow\n",
      "5. Exit\n",
      "-------------------------------------------------------------------\n",
      "which kind of info you want? \n",
      "you selected \t 3\n",
      "\n",
      "There are 186 cited/co-authors\n",
      "Here are the Citated Authors \n",
      " \n",
      "  [['\"Ginther, Donna K\"', '\"Grasdal, Astrid L\"', '\"Pollak, Robert A\"'], ['\"Goodman-Bacon, Andrew\"', '\"Cunningham, Jamein P\"'], ['\"Lindo, Jason M\"', '\"Pineda-Torres, Mayra\"'], ['\"Price, Joseph\"', '\"Buckles, Kasey\"', '\"Van Leeuwen, Jacob\"', '\"Riley, Isaac\"'], ['\"Rosenzweig, Mark\"', '\"Zhang, Junsen\"'], ['\"Andrew, Alison\"', '\"Attanasio, Orazio\"', '\"Bernal, Raquel\"', '\"Sosa, Lina Cardona\"', '\"Krutikova, Sonya\"', '\"Rubio-Codina, Marta\"'], ['\"Edmonds, Eric V\"', '\"Theoharides, Caroline B\"'], ['\"Wang, Shing-Yi\"'], ['\"Miller, Douglas L\"', '\"Shenhav, Na’ama\"', '\"Grosz, Michel Z\"'], ['\"Bergman, Peter\"', '\"Chetty, Raj\"', '\"DeLuca, Stefanie\"', '\"Hendren, Nathaniel\"', '\"Katz, Lawrence F\"', '\"Palmer, Christopher\"'], ['\"Hendren, Nathaniel\"', '\"Sprung-Keyser, Ben\"'], ['\"Alexander, Diane\"', '\"Schnell, Molly\"'], ['\"Rosenzweig, Mark R\"', '\"Zhang, Junsen\"'], ['\"Acton, Riley K\"', '\"Imberman, Scott A\"', '\"Lovenheim, Michael F\"'], ['\"Oreopoulos, Philip\"', '\"Petronijevic, Uros\"'], ['\"Thompson, Owen\"'], ['\"Frakes, Michael D\"', '\"Gruber, Jonathan\"', '\"Jena, Anupam\"'], ['\"Agostinelli, Francesco\"', '\"Saharkhiz, Morteza\"', '\"Wiswall, Matthew J\"'], ['\"Halliday, Timothy J\"', '\"Akee, Randall Q\"', '\"Sentell, Tetine\"', '\"Inada, Megan\"', '\"Miyamura, Jill\"'], ['\"Hjalmarsson, Randi\"', '\"Mitrut, Andreea\"', '\"Pop-Eleches, Cristian\"'], ['\"De Hoyos, Rafael\"', '\"Attanasio, Orazio\"', '\"Meghir, Costas\"'], ['\"Lavy, Victor\"', '\"Megalokonomou, Rigissa\"'], ['\"Kazianga, Harounan\"', '\"Linden, Leigh L\"', '\"Protik, Ali\"', '\"Sloan, Matthew\"'], ['\"Thompson, Owen\"'], ['\"Card, David\"', '\"Fenizia, Alessandra\"', '\"Silver, David\"'], ['\"Korenman, Sanders\"', '\"Remler, Dahlia K\"', '\"Hyson, Rosemary T\"'], ['\"Gunnsteinsson, Snaebjorn\"', '\"Adhvaryu, Achyuta\"', '\"Christian, Parul\"', '\"Labrique, Alain\"', '\"Sugimoto, Jonathan\"', '\"Shamim, Abu Ahmed\"', '\"West, Keith P, Jr\"'], ['\"Card, David\"', '\"DellaVigna, Stefano\"', '\"Funk, Patricia\"', '\"Iriberri, Nagore\"'], ['\"Cortes, Kalena E\"', '\"Fricke, Hans D.U.\"', '\"Loeb, Susanna\"', '\"Song, David S\"', '\"York, Benjamin N\"'], ['\"Adhvaryu, Achyuta\"', '\"Bharadwaj, Prashant\"', '\"Fenske, James\"', '\"Nyshadham, Anant\"', '\"Stanley, Richard\"'], ['\"Gruber, Jonathan\"', '\"Sommers, Benjamin D\"'], ['\"Meyer, Bruce D\"', '\"Wu, Derek\"', '\"Mooers, Victoria R\"', '\"Medalia, Carla\"'], ['\"de Chaisemartin, Clément\"', '\"D\\'Haultfoeuille, Xavier\"'], ['\"Mbiti, Isaac\"', '\"Romero, Mauricio\"', '\"Schipper, Youdi\"'], ['\"Persson, Petra\"', '\"Rossin-Slater, Maya\"'], ['\"Barcellos, Silvia H\"', '\"Carvalho, Leandro S\"', '\"Turley, Patrick\"'], ['\"Lefgren, Lars J\"', '\"Pope, Jaren C\"', '\"Sims, David P\"'], ['\"Heckman, James J\"', '\"Karapakula, Ganesh\"'], ['\"Heckman, James J\"', '\"Karapakula, Ganesh\"'], ['\"Richwine, Chelsea J\"', '\"Dor, Avi\"', '\"Moghtaderi, Ali\"'], ['\"Elder, Todd E\"', '\"Figlio, David N\"', '\"Imberman, Scott A\"', '\"Persico, Claudia L\"'], ['\"Elder, Todd\"', '\"Figlio, David N\"', '\"Imberman, Scott A\"', '\"Persico, Claudia\"'], ['\"Britton, Jack W\"', '\"Gruber, Jonathan\"'], ['\"Dragan, Kacie\"', '\"Ellen, Ingrid\"', '\"Glied, Sherry A\"'], ['\"Cohodes, Sarah\"', '\"Setren, Elizabeth\"', '\"Walters, Christopher R\"'], ['\"Pac, Jessica E\"', '\"Bartel, Ann P\"', '\"Ruhm, Christopher J\"', '\"Waldfogel, Jane\"'], ['\"Cools, Angela\"', '\"Fernández, Raquel\"', '\"Patacchini, Eleonora\"'], ['\"Chyn, Eric\"', '\"Gold, Samantha\"', '\"Hastings, Justine S\"'], ['\"Beach, Brian\"', '\"Hanlon, W. Walker\"'], ['\"Meyer, Bruce D\"', '\"Mittag, Nikolas\"'], ['\"Meyer, Bruce D\"', '\"Mittag, Nikolas\"'], ['\"Connolly, Marie\"', '\"Corak, Miles\"', '\"Haeck, Catherine\"'], ['\"Billings, Stephen B\"', '\"Hoekstra, Mark\"'], ['\"Andreoni, James\"', '\"Girolamo, Amalia Di\"', '\"List, John A\"', '\"Mackevicius, Claire\"', '\"Samek, Anya\"'], ['\"Beg, Sabrin A\"', '\"Lucas, Adrienne M\"', '\"Halim, Waqas\"', '\"Saif, Umar\"'], ['\"Ager, Philipp\"', '\"Boustan, Leah Platt\"', '\"Eriksson, Katherine\"'], ['\"Anderson, D. Mark\"', '\"Rees, Daniel I\"', '\"Wang, Tianyi\"'], ['\"Kowalski, Amanda E\"'], ['\"Kelly, Andrea M\"', '\"Lindo, Jason M\"', '\"Packham, Analisa\"'], ['\"Hanushek, Eric A\"', '\"Peterson, Paul E\"', '\"Talpey, Laura M\"', '\"Woessmann, Ludger\"'], ['\"Austin, Wes\"', '\"Heutel, Garth\"', '\"Kreisman, Daniel\"'], ['\"Lavecchia, Adam M\"', '\"Oreopoulos, Philip\"', '\"Brown, Robert S\"'], ['\"Chetty, Raj\"', '\"Friedman, John N\"'], ['\"Chen, Yiqun\"', '\"Persson, Petra\"', '\"Polyakova, Maria\"'], ['\"Boeri, Tito\"', '\"Ichino, Andrea\"', '\"Moretti, Enrico\"', '\"Posch, Johanna\"'], ['\"Shah, Manisha\"', '\"Steinberg, Bryce Millett\"'], ['\"Cesur, Resul\"', '\"Gunes, Pinar Mine\"', '\"Tekin, Erdal\"', '\"Ulker, Aydogan\"'], ['\"Papageorge, Nicholas W\"', '\"Ronda, Victor\"', '\"Zheng, Yu\"'], ['\"Biasi, Barbara\"'], ['\"Blanchflower, David G\"', '\"Clark, Andrew E\"'], ['\"Del Boca, Daniela\"', '\"Flinn, Christopher J\"', '\"Verriest, Ewout\"', '\"Wiswall, Matthew J\"'], ['\"Fowlie, Meredith\"', '\"Rubin, Edward A\"', '\"Walker, Reed\"'], ['\"Kleinberg, Jon\"', '\"Ludwig, Jens\"', '\"Mullainathan, Sendhil\"', '\"Sunstein, Cass R\"'], ['\"Hoynes, Hilary W\"', '\"Rothstein, Jesse\"'], ['\"Dossi, Gaia\"', '\"Figlio, David N\"', '\"Giuliano, Paola\"', '\"Sapienza, Paola\"'], ['\"Doepke, Matthias\"', '\"Sorrenti, Giuseppe\"', '\"Zilibotti, Fabrizio\"'], ['\"Dave, Dhaval M\"', '\"Corman, Hope\"', '\"Kalil, Ariel\"', '\"Schwartz-Soicher, Ofira\"', '\"Reichman, Nancy\"'], ['\"Kleven, Henrik\"', '\"Landais, Camille\"', '\"Posch, Johanna\"', '\"Steinhauer, Andreas\"', '\"Zweimüller, Josef\"'], ['\"Buckles, Kasey\"', '\"Guldi, Melanie E\"', '\"Schmidt, Lucie\"'], ['\"Attanasio, Orazio\"', '\"Boneva, Teodora\"', '\"Rauh, Christopher\"'], ['\"Mohanan, Manoj\"', '\"Donato, Katherine\"', '\"Miller, Grant\"', '\"Truskinovsky, Yulya\"', '\"Vera-Hernández, Marcos\"'], ['\"Gould, Eric\"', '\"Simhon, Avi\"', '\"Weinberg, Bruce A\"'], ['\"Heissel, Jennifer\"', '\"Persico, Claudia\"', '\"Simon, David\"'], ['\"Laurito, Agustina\"', '\"Schwartz, Amy Ellen\"'], ['\"Costa, Dora\"', '\"Yetter, Noelle\"', '\"DeSomer, Heather\"'], ['\"Figlio, David N\"', '\"Özek, Umut\"'], ['\"Michalopoulos, Stelios\"', '\"Xue, Melanie Meng\"'], ['\"Bald, Anthony\"', '\"Chyn, Eric\"', '\"Hastings, Justine S\"', '\"Machelett, Margarita\"'], ['\"Cook, C. Justin\"', '\"Fletcher, Jason M\"', '\"Forgues, Angela\"'], ['\"Jackson, C. Kirabo\"'], ['\"Bouguen, Adrien\"', '\"Huang, Yue\"', '\"Kremer, Michael\"', '\"Miguel, Edward\"'], ['\"Dynarski, Susan\"', '\"Libassi, C.J.\"', '\"Michelmore, Katherine\"', '\"Owen, Stephanie\"'], ['\"Beuermann, Diether\"', '\"Jackson, C. Kirabo\"', '\"Navarro-Sola, Laia\"', '\"Pardo, Francisco\"'], ['\"Gordon, James\"', '\"Herbst, Chris M\"', '\"Tekin, Erdal\"'], ['\"Lavy, Victor\"', '\"Kott, Assaf\"', '\"Rachkovski, Genia\"'], ['\"Dhar, Diva\"', '\"Jain, Tarun\"', '\"Jayachandran, Seema\"'], ['\"Fletcher, Jason\"', '\"Han, Joel\"'], ['\"Ruhm, Christopher J\"'], ['\"Iizuka, Toshiaki\"', '\"Shigeoka, Hitoshi\"'], ['\"Heissel, Jennifer A\"', '\"Adam, Emma K\"', '\"Doleac, Jennifer L\"', '\"Figlio, David N\"', '\"Meer, Jonathan\"'], ['\"Luca, Dara Lee\"', '\"Bloom, David E\"'], ['\"Akresh, Richard\"', '\"Halim, Daniel\"', '\"Kleemans, Marieke\"'], ['\"Cox, James C\"', '\"Kreisman, Daniel\"', '\"Dynarski, Susan\"'], ['\"Papageorge, Nicholas W\"', '\"Gershenson, Seth\"', '\"Kang, Kyung Min\"'], ['\"Gershenson, Seth\"', '\"Hart, Cassandra M. D\"', '\"Hyman, Joshua\"', '\"Lindsay, Constance\"', '\"Papageorge, Nicholas W\"'], ['\"Anderson, D. Mark\"', '\"Sabia, Joseph J\"', '\"Tekin, Erdal\"'], ['\"Baggio, Michele\"', '\"Chong, Alberto\"', '\"Simon, David\"'], ['\"Agrawal, Mohit\"', '\"Altonji, Joseph G\"', '\"Mansfield, Richard K\"'], ['\"Aizer, Anna\"', '\"Devereux, Paul J\"', '\"Salvanes, Kjell G\"'], ['\"Chetty, Raj\"', '\"Friedman, John N\"', '\"Hendren, Nathaniel\"', '\"Jones, Maggie R\"', '\"Porter, Sonya R\"'], ['\"Hotz, V. Joseph\"', '\"Wiemers, Emily E\"', '\"Rasmussen, Joshua\"', '\"Koegel, Kate Maxwell\"'], ['\"Meyer, Bruce D\"', '\"Mittag, Nikolas\"', '\"Goerge, Robert M\"'], ['\"Dee, Thomas\"', '\"Murphy, Mark\"'], ['\"Lefgren, Lars J\"', '\"Stoddard, Olga B\"', '\"Stovall, John E\"'], ['\"Attanasio, Orazio\"', '\"Baker-Henningham, Helen\"', '\"Bernal, Raquel\"', '\"Meghir, Costas\"', '\"Pineda, Diana\"', '\"Rubio-Codina, Marta\"'], ['\"Oreopoulos, Philip\"', '\"Patterson, Richard W\"', '\"Petronijevic, Uros\"', '\"Pope, Nolan G\"'], ['\"Anderson, D. Mark\"', '\"Charles, Kerwin Kofi\"', '\"Rees, Daniel I\"'], ['\"Goodman-Bacon, Andrew\"'], ['\"Oreopoulos, Philip\"', '\"Petronijevic, Uros\"', '\"Logel, Christine\"', '\"Beattie, Graham\"'], ['\"Gordon, Nora E\"', '\"Ruffini, Krista J\"'], ['\"Lucas, Adrienne M\"', '\"Wilson, Nicholas L\"'], ['\"Murphy, Richard\"', '\"Weinhardt, Felix\"'], ['\"Currie, Janet M\"', '\"MacLeod, W. Bentley\"'], ['\"Goodman, Joshua\"', '\"Gurantz, Oded\"', '\"Smith, Jonathan\"'], ['\"Kose, Esra\"', '\"Kuka, Elira\"', '\"Shenhav, Na\\'ama\"'], ['\"Lavy, Victor\"', '\"Sand, Edith\"', '\"Shayo, Moses\"'], ['\"Beuermann, Diether W\"', '\"Jackson, C. Kirabo\"'], ['\"Guldi, Melanie\"', '\"Hawkins, Amelia\"', '\"Hemmeter, Jeffrey\"', '\"Schmidt, Lucie\"'], ['\"Gilligan, Daniel O\"', '\"Karachiwalla, Naureen\"', '\"Kasirye, Ibrahim\"', '\"Lucas, Adrienne M\"', '\"Neal, Derek\"'], ['\"Corman, Hope\"', '\"Dave, Dhaval M\"', '\"Reichman, Nancy\"'], ['\"Lucas, Adrienne\"', '\"Wilson, Nicholas\"'], ['\"Mbiti, Isaac\"', '\"Muralidharan, Karthik\"', '\"Romero, Mauricio\"', '\"Schipper, Youdi\"', '\"Manda, Constantine\"', '\"Rajani, Rakesh\"'], ['\"Cascio, Elizabeth U\"', '\"Lewis, Ethan G\"'], ['\"Geruso, Michael\"', '\"Spears, Dean\"'], ['\"Kahn-Lang, Ariella\"', '\"Lang, Kevin\"'], ['\"Adhvaryu, Achyuta\"', '\"Nyshadham, Anant\"', '\"Molina, Teresa\"', '\"Tamayo, Jorge\"'], ['\"Adhvaryu, Achyuta\"', '\"Bednar, Steven\"', '\"Nyshadham, Anant\"', '\"Molina, Teresa\"', '\"Nguyen, Quynh\"'], ['\"Bergbauer, Annika B\"', '\"Hanushek, Eric A\"', '\"Woessmann, Ludger\"'], ['\"Bolbocean, Corneliu\"', '\"Tylavsky, Frances A\"', '\"West, James E\"'], ['\"Cortes, Kalena E\"', '\"Fricke, Hans\"', '\"Loeb, Susanna\"', '\"Song, David S\"'], ['\"Zivin, Joshua S. Graff\"', '\"Song, Yingquan\"', '\"Tang, Qu\"', '\"Zhang, Peng\"'], ['\"Evans, William N\"', '\"Garthwaite, Craig\"', '\"Moore, Timothy J\"'], ['\"Biasi, Barbara\"'], ['\"Currie, Janet\"', '\"Mueller-Smith, Michael\"', '\"Rossin-Slater, Maya\"'], ['\"Akee, Randall\"', '\"Copeland, William\"', '\"Costello, E. Jane\"', '\"Holbein, John B\"', '\"Simeonova, Emilia\"'], ['\"Bronchetti, Erin T\"', '\"Christensen, Garret S\"', '\"Hoynes, Hilary W\"'], ['\"Gensowski, Miriam\"', '\"Nielsen, Torben Heien\"', '\"Nielsen, Nete Munk\"', '\"Rossin-Slater, Maya\"', '\"Wüst, Miriam\"'], ['\"Macartney, Hugh\"', '\"McMillan, Robert\"', '\"Petronijevic, Uros\"'], ['\"Kuziemko, Ilyana\"', '\"Pan, Jessica\"', '\"Shen, Jenny\"', '\"Washington, Ebonya\"'], ['\"Alsan, Marcella\"', '\"Yang, Crystal\"'], ['\"Beach, Brian\"', '\"Ferrie, Joseph P\"', '\"Saavedra, Martin H\"'], ['\"Chorniy, Anna V\"', '\"Currie, Janet\"', '\"Sonchak, Lyudmyla\"'], ['\"Cahyadi, Nur\"', '\"Hanna, Rema\"', '\"Olken, Benjamin A\"', '\"Prima, Rizal Adi\"', '\"Satriawan, Elan\"', '\"Syamsulhakim, Ekki\"'], ['\"Carpenter, Christopher S\"', '\"Warman, Casey\"'], ['\"Currie, Janet\"', '\"Schwandt, Hannes\"', '\"Thuilliez, Josselin\"'], ['\"Dizon-Ross, Rebecca\"'], ['\"Clay, Karen\"', '\"Portnykh, Margarita\"', '\"Severnini, Edson\"'], ['\"Hoynes, Hilary W\"', '\"Schanzenbach, Diane Whitmore\"'], ['\"Yu, Han\"', '\"Mocan, Naci\"'], ['\"Meyer, Bruce D\"', '\"Wu, Derek\"'], ['\"Rothstein, Jesse\"'], ['\"Barclay, Kieron\"', '\"Lyngstad, Torkild\"', '\"Conley, Dalton\"'], ['\"Abramitzky, Ran\"', '\"Lavy, Victor\"', '\"Pérez, Santiago\"'], ['\"Hamersma, Sarah\"', '\"Maclean, Johanna Catherine\"'], ['\"Card, David\"', '\"Fenizia, Alessandra\"', '\"Silver, David\"'], ['\"Kline, Patrick M\"', '\"Walters, Christopher R\"'], ['\"Corcoran, Sean P\"', '\"Jennings, Jennifer L\"', '\"Cohodes, Sarah R\"', '\"Sattin-Bajaj, Carolyn\"'], ['\"Anttila-Hughes, Jesse K\"', '\"Fernald, Lia C.H.\"', '\"Gertler, Paul J\"', '\"Krause, Patrick\"', '\"Wydick, Bruce\"'], ['\"Doss, Christopher J\"', '\"Fahle, Erin M\"', '\"Loeb, Susanna\"', '\"York, Benjamin N\"'], ['\"Chetty, Raj\"', '\"Hendren, Nathaniel\"', '\"Jones, Maggie R\"', '\"Porter, Sonya R\"'], ['\"Currie, Janet\"', '\"Jin, Jonas Y\"', '\"Schnell, Molly\"'], ['\"Bana, Sarah\"', '\"Bedard, Kelly\"', '\"Rossin-Slater, Maya\"'], ['\"Dynarski, Susan\"', '\"Hubbard, Daniel\"', '\"Jacob, Brian\"', '\"Robles, Silvia\"'], ['\"Simeonova, Emilia\"', '\"Currie, Janet\"', '\"Nilsson, Peter\"', '\"Walker, Reed\"'], ['\"Goldsmith-Pinkham, Paul\"', '\"Sorkin, Isaac\"', '\"Swift, Henry\"'], ['\"Buckles, Kasey\"', '\"Hungerman, Daniel\"', '\"Lugauer, Steven\"'], ['\"Slusky, David\"', '\"Zeckhauser, Richard J\"'], ['\"Kuka, Elira\"', '\"Shenhav, Na\\'ama\"', '\"Shih, Kevin\"'], ['\"Parker, Susan W\"', '\"Vogl, Tom\"'], ['\"Carter, Susan Payne\"', '\"Wozniak, Abigail\"'], ['\"Dahl, Gordon B\"', '\"Gielen, Anne C\"'], ['\"Bhuller, Manudeep\"', '\"Dahl, Gordon B\"', '\"Løken, Katrine V\"', '\"Mogstad, Magne\"'], ['\"Galama, Titus J\"', '\"Lleras-Muney, Adriana\"', '\"van Kippersluis, Hans\"'], ['\"Kleven, Henrik\"', '\"Landais, Camille\"', '\"Søgaard, Jakob Egholt\"'], ['\"Jackson, C. Kirabo\"', '\"Wigger, Cora\"', '\"Xiong, Heyu\"'], ['\"Gilraine, Michael\"', '\"Macartney, Hugh\"', '\"McMillan, Robert\"']]\n"
     ]
    }
   ],
   "source": [
    "import json\n",
    "import re\n",
    "\n",
    "with open(\"./nber.json\", encoding=\"utf8\") as f:\n",
    "    data = json.load(f)\n",
    "    \n",
    "\n",
    "# parse the title\n",
    "def title(data):\n",
    "    title = re.findall(r'<title>(.*?)</title>', data)\n",
    "    return title\n",
    "\n",
    "# parse the dop\n",
    "def dop(data):\n",
    "    dop = re.findall(r'<meta name=\"citation_date\" content=\"(.*?)\">', data)\n",
    "    return dop\n",
    "\n",
    "# authors\n",
    "def cauthors(data):\n",
    "    cauthors = re.findall(r'<meta name=\"citation_author\" content=(.*?)>', data)\n",
    "    return cauthors\n",
    "\n",
    "# abstracts\n",
    "def abst(data):\n",
    "    abst = re.findall(r'<p style=\"margin-left: 40px; margin-right: 40px; text-align: justify\">\\n(.*?)\\n</p>',data)\n",
    "    return abst\n",
    "\n",
    "\n",
    "# form one list cotain all the 4 information of one article\n",
    "def parse1Lst(data):\n",
    "    myLst = [] \n",
    "    \n",
    "    myLst.append(title(data))\n",
    "    myLst.append(dop(data))\n",
    "    myLst.append(cauthors(data))\n",
    "    myLst.append(abst(data))        \n",
    "    return myLst\n",
    "\n",
    "\n",
    "def parsePaprs(filepath):\n",
    "    with open (filepath, encoding=\"utf8\") as f:\n",
    "        data = json.load(f)\n",
    "        \n",
    "        titleLst = []\n",
    "        dateLst = []\n",
    "        cauthorLst = []\n",
    "        abstLst = [] \n",
    "        \n",
    "    for i in range (0, len(data), 1): \n",
    "        title = (parse1Lst(data[i])[0]) \n",
    "        date = (parse1Lst(data[i])[1])\n",
    "        cauthor= (parse1Lst(data[i])[2])\n",
    "        abst = (parse1Lst(data[i])[3])\n",
    "        \n",
    "        \n",
    "        titleLst.append(title)\n",
    "        dateLst.append(date)\n",
    "        cauthorLst.append(cauthor)\n",
    "        abstLst.append(abst)\n",
    "        \n",
    "    titleLst = [titles[0] for titles in titleLst]\n",
    "    dateLst = [date[0] for date in dateLst]\n",
    "    \n",
    "    \n",
    "    # cauthorLst = [cauthor[0] for cauthor in cauthorLst] \n",
    "    # the reason that I remove this line is becasue one article contains mutiple auhtors, just so that \n",
    "    # we can differentiate which authors wrote which article using the form of sublists .\n",
    "    \n",
    "    # also, for the asbtract section, I want that users can differetiate between them\n",
    "    \n",
    "    \n",
    "    print (30 * \"-\" , \"MENU\" , 30 * \"-\")\n",
    "    print (\"1. Show All Titles\")\n",
    "    print (\"2. Show All Date of Publish\")\n",
    "    print (\"3. Show All Citated Auhthors\")\n",
    "    print (\"4. Show All Abstracts: Caution!! might overflow\")\n",
    "    print (\"5. Exit\")\n",
    "    print (67 * \"-\")\n",
    "    usrInput = int (input(\"which kind of info you want? \\nyou selected \\t \"))\n",
    "    \n",
    "    if usrInput == 1:\n",
    "        print(\"\\nI Found\" + str(len(titleLst))+ \"Titles\")\n",
    "        print (\"Here are the TITLES:\\n \\n\", titleLst, )\n",
    "        \n",
    "        \n",
    "    if usrInput == 2: \n",
    "        print(\"\\nThere are\" + \" \" + str( len(dateLst) ) + \" \" + \"Published Dates\" )\n",
    "        print (\"Here are the publication Date: \\n \\n\", dateLst, )\n",
    "        \n",
    "    if usrInput == 3: \n",
    "        print(\"\\nThere are\" + \" \" + str( len(cauthorLst) ) + \" \" + \"cited/co-authors\" )\n",
    "        print (\"Here are the Citated Authors \\n \\n \", cauthorLst)\n",
    "        \n",
    "    if usrInput == 4:\n",
    "        print(\"\\nThere are\" + \" \" + str( len(abstLst) ) + \" \" + \"Abstracts\" )\n",
    "        print (\"Here are the Abstract of them \\nCaution!!!!! \\nPossibility of Overflow \\n \\n \", abstLst)\n",
    "    \n",
    "    if usrInput == 5:\n",
    "        print(\"\\nThanks for using!! Goodbye 再 见 \\n\")\n",
    "        return 0\n",
    "\n",
    "\n",
    "        \n",
    "\n",
    "        \n",
    "        \n",
    "# test function;\n",
    "parsePaprs(\"./nber.json\")\n",
    "    \n",
    "\n"
   ]
  },
  {
   "cell_type": "markdown",
   "metadata": {},
   "source": [
    "### But I think there should be an easier way to solve this problem.... (at least easier to find the title and published date)\n",
    "\n",
    "* however in this way, the authors and abstract part do not have the [ ] to seperate from each papers;"
   ]
  },
  {
   "cell_type": "code",
   "execution_count": 32,
   "metadata": {},
   "outputs": [
    {
     "name": "stdout",
     "output_type": "stream",
     "text": [
      "[\"Fathers' Multiple-Partner Fertility and Children's Educational Outcomes\", 'Changes in Family Structure and Welfare Participation Since the 1960s: The Role of Legal Services', 'New Evidence on the Effects of Mandatory Waiting Periods for Abortion', 'Combining Family History and Machine Learning to Link Historical Records', 'Housing Prices, Inter-generational Co-residence, and \"Excess\" Savings by the Young: Evidence using Chinese Data', 'Preschool Quality and Child Development', 'The Short Term Impact of a Productive Asset Transfer in Families with Child Labor: Experimental Evidence from the Philippines', 'The Labor Supply Consequences of Having a Boy in China', 'Selection into Identification in Fixed Effects Models, with Application to Head Start', 'Creating Moves to Opportunity: Experimental Evidence on Barriers to Neighborhood Choice', 'A Unified Welfare Analysis of Government Policies', 'The Impacts of Physician Payments on Patient Access, Use, and Health', 'The Effects of Schooling on Costless Health Maintenance: Overweight Adolescents and Children in Rural China', \"Do Health Insurance Mandates Spillover to Education? Evidence from Michigan's Autism Insurance Mandate\", 'The Remarkable Unresponsiveness of College Students to Nudging And What We Can Learn from It', 'Fertility Decline in the Civil Rights Era', 'Is Great Information Good Enough?  Evidence from Physicians as Patients', 'Home and School in the Development of Children', 'The Impact of Medicaid on Medical Utilization in a Vulnerable Population: Evidence from COFA Migrants', 'The Impact of Abortion on Crime and Crime-Related Behavior', 'Targeting High School Scholarships to the Poor: The Impact of a Program in Mexico', \"Persistency in Teachers' Grading Bias and Effects on Longer-Term Outcomes: University Admissions Exams and Choice of Field of Study\", 'The Medium-Term Impacts of Girl-Friendly Schools: Seven-Year Evidence from School Construction in Burkina Faso', 'School Desegregation and Black Teacher Employment', 'The Health Impacts of Hospital Delivery Practices', 'Accounting for the Impact of Medicaid on Child Poverty', 'Protecting Infants from Natural Disasters: The Case of Vitamin A Supplementation and a Tornado in Bangladesh', 'Are Referees and Editors in Economics Gender Neutral?', 'When Behavioral Barriers are Too High or Low - How Timing Matters for Parenting Interventions', 'Dust and Death: Evidence from the West African Harmattan', \"The Affordable Care Act's Effects on Patients, Providers and the Economy: What We've Learned So Far\", 'The Use and Misuse of Income Data and Extreme Poverty in the United States', 'Two-way Fixed Effects Estimators with Heterogeneous Treatment Effects', 'Designing Effective Teacher Performance Pay Programs: Experimental Evidence from Tanzania', \"When Dad Can Stay Home: Fathers' Workplace Flexibility and Maternal Health\", 'Distributional Effects of Education on Health', 'Contemporary State Policies and Intergenerational Income Mobility', 'Intergenerational and Intragenerational Externalities of the Perry Preschool Project', 'The Perry Preschoolers at Late Midlife: A Study in Design-Specific Inference', 'Do Stricter Immunization Laws Improve Coverage? Evidence from the Repeal of Non-medical Exemptions for School Mandated Vaccines', 'School Segregation and Racial Gaps in Special Education Identification', 'The Role of Neonatal Health in the Incidence of Childhood Disability', 'Do Income Contingent Student Loan Programs Distort Earnings?  Evidence from the UK', 'Does Gentrification Displace Poor Children?  New Evidence from New York City Medicaid Data', \"Can Successful Schools Replicate? Scaling Up Boston's Charter School Sector\", 'Paid Family Leave and Breastfeeding: Evidence from California', 'Girls, Boys, and High Achievers', 'The Returns to Early-life Interventions for Very Low Birth Weight Children', 'Censorship, Family Planning, and the Historical Fertility Transition', 'Combining Administrative and Survey Data to Improve Income Measurement', 'An Empirical Total Survey Error Decomposition Using Data Combination', 'Intergenerational Mobility between and within Canada and the United States', 'Schools, Neighborhoods, and the Long-Run Effect of Crime-Prone Peers', 'Risk Preferences of Children and Adolescents in Relation to Gender, Cognitive Skills, Soft Skills, and Executive Functions', 'Beyond the Basics: Improving Post-Primary Content Delivery through Classroom Technology', 'The Intergenerational Effects of a Large Wealth Shock: White Southerners After the Civil War', 'The Phenomenon of Summer Diarrhea and its Waning, 1910-1930', 'Counting Defiers', 'The Power of the IUD: Effects of Expanding Access to Contraception Through Title X Clinics', 'The Unwavering SES Achievement Gap: Trends in U.S. Student Performance', 'School Bus Emissions, Student Health, and Academic Performance', 'Long-run Effects from Comprehensive Student Support: Evidence from Pathways to Education', 'A Practical Method to Reduce Privacy Loss when Disclosing Statistics Based on Small Samples', 'The Roots of Health Inequality and The Value of Intra-Family Expertise', 'Wage Equalization and Regional Misallocation: Evidence from Italian and German Provinces', 'The Right to Education Act: Trends in Enrollment, Test Scores, and School Quality', \"Socialized Healthcare and Women's Fertility Decisions\", 'The Economic Value of Breaking Bad: Misbehavior, Schooling and the Labor Market', 'School Finance Equalization Increases Intergenerational Mobility: Evidence from a Simulated-Instruments Approach', 'Children, Unhappiness and Family Finances: Evidence from One Million Europeans', 'Actors in the Child Development Process', 'Bringing Satellite-Based Air Quality Estimates Down to Earth', 'Discrimination In The Age Of Algorithms', 'Universal Basic Income in the US and Advanced Countries', 'Born in the Family: Preferences for Boys and the Gender Gap in Math', 'The Economics of Parenting', 'Effects of Maternal Work Incentives on Adolescent Social Behaviors', 'Child Penalties Across Countries: Evidence and Explanations', 'Fertility Trends in the United States, 1980-2017: The Role of Unintended Births', 'Parental Beliefs about Returns to Different Types of Investments in School Children', 'Different Strokes for Different Folks: Experimental Evidence on the Effectiveness of Input and Output Incentive Contracts for Health Care Providers with Varying Skills', 'Does Parental Quality Matter? Evidence on the Transmission of Human Capital Using Variation in Parental Influence from Death, Divorce, and Family Size', 'Does Pollution Drive Achievement? The Effect of Traffic Pollution on Academic Performance', 'Does School Lunch Fill the \"SNAP Gap\" at the End of the Month?', 'The Impact of a Wartime Health Shock on the Postwar Socioeconomic Status and Mortality of Union Army Veterans and their Children', 'An Extra Year to Learn English? Early Grade Retention and the Human Capital Development of English Learners', 'Folklore', 'The Causal Impact of Removing Children from Abusive and Neglectful Homes', 'Multigenerational Effects of Early Life Health Shocks', 'Does School Spending Matter? The New Literature on an Old Question', 'Using RCTs to Estimate Long-Run Impacts in Development Economics', 'Closing the Gap: The Effect of a Targeted, Tuition-Free Promise on College Choices of High-Achieving, Low-Income Students', 'What is a Good School, and Can Parents Tell? Evidence on the Multidimensionality of School Output', \"Who's Minding the Kids? Experimental Evidence on the Demand for Child Care Quality\", 'Does Remedial Education at Late Childhood Pay Off After All? Long-Run Consequences for University Schooling, Labor Market Outcomes and Inter-Generational Mobility', \"Reshaping Adolescents' Gender Attitudes: Evidence from a School-Based Experiment in India\", 'Intergenerational Mobility in Education: Variation in Geography and Time', 'Shackling the Identification Police?', 'Free for Children? Patient Cost-sharing and Healthcare Utilization', 'Testing, Stress, and Performance: How Students Respond Physiologically to High-Stakes Testing', 'The Returns to Parental Health: Evidence from Indonesia', 'Long-term and Intergenerational Effects of Education: Evidence from School Construction in Indonesia', 'Designed to Fail: Effects of the Default Option and Information Complexity on Student Loan Repayment', 'Teacher Expectations Matter', 'The Long-Run Impacts of Same-Race Teachers', 'Child Access Prevention Laws and Juvenile Firearm-Related Homicides', 'Sex, Drugs, and Baby Booms: Can Behavior Overcome Biology?', 'Quantifying Family, School, and Location Effects in the Presence of  Complementarities and Sorting', 'Grandparents, Moms, or Dads? Why Children of Teen Mothers Do Worse in Life', 'The Opportunity Atlas: Mapping the Childhood Roots of Social Mobility', \"The Role of Parental Wealth and Income in Financing Children's College Attendance and Its Consequences\", 'Errors in Survey Reporting and Imputation and their Effects on Estimates of Food Stamp Program Participation', 'Vanished Classmates: The Effects of Local Immigration Enforcement on Student Enrollment', 'Are Two Bads Better Than One? A Model of Sensory Limitations', 'Early Stimulation and Nutrition: The Impacts of a Scalable Intervention', \"When Studying and Nudging Don't Go as Planned: Unsuccessful Attempts to Help Traditional and Online College Students\", 'Public Health Efforts and the Decline in Urban Mortality', 'Difference-in-Differences with Variation in Treatment Timing', 'Improving Non-Academic Student Outcomes Using Online and Text-Message Coaching', 'School Nutrition and Student Discipline: Effects of Schoolwide Free Meals', 'Schooling, Wealth, Risky Sexual Behavior, and HIV/AIDS in Sub-Saharan Africa', 'Top of the Class: The Importance of Ordinal Rank', 'Understanding Physician Decision Making: The Case of Depression', 'Take Two! SAT Retaking and College Enrollment Gaps', \"Who Benefited from Women's Suffrage?\", 'Charity Begins at Home (and at School): Effects of Religion-Based Discrimination in Education', 'The Short and Long-Run Effects of Attending The Schools that Parents Prefer', 'Supplemental Security Income and Child Outcomes: Evidence from Birth Weight Eligibility Cutoffs', 'Educator Incentives and Educational Triage in Rural Primary Schools', 'Effects of Prenatal Care on Birth Outcomes: Reconciling a Messy Literature', 'Does Television Kill Your Sex Life? Microeconometric Evidence from 80 Countries', 'Inputs, Incentives, and Complementarities in Education: Experimental Evidence from Tanzania', 'Distributing the Green (Cards): Permanent Residency and Personal Income Taxes after the Immigration Reform and Control Act of 1986', 'Heat, Humidity, and Infant Mortality in the Developing World', \"The Promise and Pitfalls of Differences-in-Differences: Reflections on '16 and Pregnant' and Other Applications\", 'Helping Children Catch Up: Early Life Shocks and the PROGRESA Experiment', 'When It Rains It Pours: The Long-run Economic Impacts of Salt Iodization in the United States', 'Testing', 'U.S. Safety Net Programs and Early Life Skills Formation:  Results from a Prospective Longitudinal Cohort Study', 'Too little or too much? Actionable Advice in an Early-Childhood Text Messaging Experiment', 'Temperature and High-Stakes Cognitive Performance: Evidence from the National College Entrance Examination in China', 'Guns and Violence: The Enduring Impact of Crack Cocaine Markets on Young Black Males', 'The Labor Market for Teachers Under Different Pay Schemes', 'Violence while in Utero: The Impact of Assaults During Pregnancy on Birth Outcomes', 'Family Income and the Intergenerational Transmission of Voting Behavior: Evidence from an Income Intervention', 'Local Food Prices, SNAP Purchasing Power, and Child Health', 'Childhood Health Shocks, Comparative Advantage, and Long-Term Outcomes: Evidence from the Last Danish Polio Epidemic', 'Teacher Performance and Accountability Incentives', 'The Mommy Effect: Do Women Anticipate the Employment Effects of Motherhood?', 'Fear and the Safety Net: Evidence from Secure Communities', 'Fetal Shock or Selection? The 1918 Influenza Pandemic and Human Capital Development', 'Does Prenatal WIC Participation Improve Child Outcomes?', 'Cumulative Impacts of Conditional Cash Transfer Programs: Experimental Evidence from Indonesia', \"Do 'All-Age' Bicycle Helmet Laws Work? Evidence from Canada\", 'Pauvreté, Egalité, Mortalité: Mortality (In)Equality in France and the United States', \"Parents' Beliefs About Their Children's Academic Ability: Implications for Educational Investments\", 'Toxic Truth: Lead and Fertility', 'Safety Net Investments in Children', 'The Impact of High School Curriculum on Confidence, Academic Success, and Mental and Physical Well-Being of University Students', 'The Poverty Reduction of Social Security and Means-Tested Transfers', 'Inequality of Educational Opportunity? Schools as Mediators of the Intergenerational Transmission of Income', 'The Production of Inequalities within Families and Across Generations: The Intergenerational Effects of Birth Order and Family Size on Educational Attainment', 'The Long-Term Spillover Effects of Changes in the Return to Schooling', \"Insurance Expansions and Children's Use of Substance Use Disorder Treatment\", 'The Health Effects of Cesarean Delivery for Low-Risk First Births', 'On Heckits, LATE, and Numerical Equivalence', 'Leveling the Playing Field for High School Choice: Results from a Field Experiment of Informational Interventions', \"Mortality from Nestlé's Marketing of Infant Formula in Low and Middle-Income Countries\", 'More than Just a Nudge: Supporting Kindergarten Parents with Differentiated and Personalized Text-Messages', 'Race and Economic Opportunity in the United States: An Intergenerational Perspective', 'U.S. Employment and Opioids: Is There a Connection?', 'The Impacts of Paid Family Leave Benefits: Regression Kink Evidence from California Administrative Data', 'Estimating the Effects of a Large For-Profit Charter School Operator', \"Congestion Pricing, Air Pollution and Children's Health\", 'Bartik Instruments: What, When, Why, and How', 'Is Fertility a Leading Economic Indicator?', 'Sunlight and Protection Against Influenza', 'Do Human Capital Decisions Respond to the Returns to Education? Evidence from DACA', 'Do Conditional Cash Transfers Improve Economic Outcomes in the Next Generation? Evidence from Mexico', 'Making Big Changes: The Impact of Moves on Marriage among U.S. Army Personnel', 'Intergenerational Spillovers in Disability Insurance', 'Intergenerational Effects of Incarceration', 'The Effect of Education on Health and Mortality: A Review of Experimental and Quasi-Experimental Evidence.', 'Children and Gender Inequality: Evidence from Denmark', 'Do School Spending Cuts Matter? Evidence from The Great Recession', \"Education Reform in General Equilibrium: Evidence from California's Class Size Reduction\"]\n",
      "['2019-09-05', '2019-09-05', '2019-09-05', '2019-09-05', '2019-08-29', '2019-08-29', '2019-08-29', '2019-08-22', '2019-08-22', '2019-08-15', '2019-08-08', '2019-07-19', '2019-07-19', '2019-07-19', '2019-07-11', '2019-07-05', '2019-07-05', '2019-07-05', '2019-07-05', '2019-06-27', '2019-06-27', '2019-06-27', '2019-06-27', '2019-06-20', '2019-06-20', '2019-06-20', '2019-06-20', '2019-06-14', '2019-06-14', '2019-06-14', '2019-06-07', '2019-05-30', '2019-05-30', '2019-05-30', '2019-05-30', '2019-05-30', '2019-05-30', '2019-05-30', '2019-05-30', '2019-05-16', '2019-05-10', '2019-05-10', '2019-05-10', '2019-05-03', '2019-05-03', '2019-04-25', '2019-04-19', '2019-04-11', '2019-04-11', '2019-04-11', '2019-04-11', '2019-04-05', '2019-04-04', '2019-04-04', '2019-03-28', '2019-03-28', '2019-03-21', '2019-03-14', '2019-03-14', '2019-03-14', '2019-03-07', '2019-03-07', '2019-03-07', '2019-02-28', '2019-02-28', '2019-02-28', '2019-02-28', '2019-02-28', '2019-02-28', '2019-02-22', '2019-02-22', '2019-02-14', '2019-02-07', '2019-02-07', '2019-02-07', '2019-02-07', '2019-02-07', '2019-02-07', '2019-01-31', '2019-01-31', '2019-01-31', '2019-01-24', '2019-01-24', '2019-01-24', '2019-01-24', '2019-01-17', '2019-01-10', '2019-01-03', '2018-12-20', '2018-12-13', '2018-12-13', '2018-12-07', '2018-12-07', '2018-12-07', '2018-12-07', '2018-12-07', '2018-12-07', '2018-11-30', '2018-11-30', '2018-11-30', '2018-11-30', '2018-11-16', '2018-11-16', '2018-11-09', '2018-11-09', '2018-11-01', '2018-11-01', '2018-10-18', '2018-10-11', '2018-10-11', '2018-10-11', '2018-10-11', '2018-09-21', '2018-09-21', '2018-09-14', '2018-09-14', '2018-09-14', '2018-09-06', '2018-09-06', '2018-09-06', '2018-08-30', '2018-08-30', '2018-08-30', '2018-08-17', '2018-08-17', '2018-08-17', '2018-08-17', '2018-08-17', '2018-08-17', '2018-08-02', '2018-08-02', '2018-07-26', '2018-07-26', '2018-07-26', '2018-07-19', '2018-07-19', '2018-07-19', '2018-07-19', '2018-07-13', '2018-07-13', '2018-07-13', '2018-07-13', '2018-07-13', '2018-07-13', '2018-06-29', '2018-06-29', '2018-06-21', '2018-06-21', '2018-06-21', '2018-06-14', '2018-06-14', '2018-06-07', '2018-05-31', '2018-05-24', '2018-05-18', '2018-05-18', '2018-05-18', '2018-05-10', '2018-05-03', '2018-05-03', '2018-04-19', '2018-04-19', '2018-04-12', '2018-04-12', '2018-04-05', '2018-04-05', '2018-03-29', '2018-03-29', '2018-03-29', '2018-03-22', '2018-03-22', '2018-03-22', '2018-03-22', '2018-03-16', '2018-03-16', '2018-02-22', '2018-02-15', '2018-02-09', '2018-02-08', '2018-02-08', '2018-02-08', '2018-01-19', '2018-01-19', '2018-01-19', '2018-01-11', '2018-01-05']\n"
     ]
    }
   ],
   "source": [
    "import json\n",
    "import re\n",
    "\n",
    "def anotherWay(filepath):\n",
    "    with open (filepath, encoding=\"utf8\") as f:\n",
    "        data = json.load(f)\n",
    "    \n",
    "    \n",
    "    myStr = ''.join(data)\n",
    "    \n",
    "    # Got Title\n",
    "    title_= title(myStr)\n",
    "    \n",
    "    # Got Date\n",
    "    date = dop(myStr)\n",
    "    \n",
    "    # Got all the Citation Authors\n",
    "    authorsCited = cauthors(myStr)\n",
    "    \n",
    "    # Got all the abstracts\n",
    "    abstract = abst(myStr)\n",
    "    \n",
    "    \n",
    "    \n",
    "    print(title_)\n",
    "    print(date)\n",
    "#     print(authorsCited)\n",
    "#     print(abstract)\n",
    "\n",
    "\n",
    "\n",
    "anotherWay(\"./nber.json\")"
   ]
  }
 ],
 "metadata": {
  "kernelspec": {
   "display_name": "Python 3",
   "language": "python",
   "name": "python3"
  },
  "language_info": {
   "codemirror_mode": {
    "name": "ipython",
    "version": 3
   },
   "file_extension": ".py",
   "mimetype": "text/x-python",
   "name": "python",
   "nbconvert_exporter": "python",
   "pygments_lexer": "ipython3",
   "version": "3.7.3"
  }
 },
 "nbformat": 4,
 "nbformat_minor": 2
}
