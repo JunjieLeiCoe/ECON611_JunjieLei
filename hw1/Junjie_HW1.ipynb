{
 "cells": [
  {
   "cell_type": "markdown",
   "metadata": {},
   "source": [
    "\n",
    "JunjieLei ECON611 HW1\n",
    "---"
   ]
  },
  {
   "cell_type": "code",
   "execution_count": 2,
   "metadata": {},
   "outputs": [],
   "source": [
    "# loading packages\n",
    "import json\n",
    "import re"
   ]
  },
  {
   "cell_type": "markdown",
   "metadata": {},
   "source": [
    "## Warm-Up\n",
    "---"
   ]
  },
  {
   "cell_type": "markdown",
   "metadata": {},
   "source": [
    "### warmup 1"
   ]
  },
  {
   "cell_type": "code",
   "execution_count": 13,
   "metadata": {},
   "outputs": [
    {
     "name": "stdout",
     "output_type": "stream",
     "text": [
      "dlrow olleh\n",
      "dlrow olleh\n",
      "iuhuhz\n"
     ]
    }
   ],
   "source": [
    "# 2 ways we can do this \n",
    "inp = \"hello world\"\n",
    "# --------------------------\n",
    "inp = inp[::-1] \n",
    "print(inp)\n",
    "\n",
    "# --------------------------\n",
    "\n",
    "\n",
    "def rverse_wd(inp):\n",
    "    index = 0\n",
    "    indexR = -1\n",
    "    reverse_str = \"\"\n",
    "    \n",
    "    while index < len(inp):\n",
    "        reverse_str += (inp[indexR])\n",
    "        index += 1 \n",
    "        indexR -= 1\n",
    "    return reverse_str\n",
    "\n",
    "\n",
    "\n",
    "# test function\n",
    "inp = \"hello world\"\n",
    "print(rverse_wd(inp))\n",
    "\n",
    "inp2 = \"zhuhui\"\n",
    "print(rverse_wd(inp2))\n",
    "\n"
   ]
  },
  {
   "cell_type": "markdown",
   "metadata": {},
   "source": [
    "### warmup 2"
   ]
  },
  {
   "cell_type": "code",
   "execution_count": 12,
   "metadata": {},
   "outputs": [
    {
     "name": "stdout",
     "output_type": "stream",
     "text": [
      "['hello worldhello worldhello worldhello worldhello worldhello world', 'ECON611abcECON611abcECON611abcECON611abcECON611abcECON611abc', 'defdefdefdefdefdef']\n",
      "['aaaaaa', 'hellohellohellohellohellohello']\n",
      "['namenamenamenamenamename', 'othersothersothersothersothersothers']\n"
     ]
    }
   ],
   "source": [
    "\n",
    "def str6repeat(inp):\n",
    "\n",
    "    mylst = []\n",
    "    index = 0\n",
    "    \n",
    "    while index < len(inp):\n",
    "        mylst.append(inp[index]*6)\n",
    "        index += 1\n",
    "    return mylst\n",
    "\n",
    "\n",
    "\n",
    "# test\n",
    "inp = ['hello world', 'ECON611' 'abc', 'def']\n",
    "print (str6repeat(inp))\n",
    "\n",
    "inp = [\"a\", 'hello']\n",
    "print(str6repeat(inp))\n",
    "\n",
    "inp2 = [\"name\", \"others\"]\n",
    "print(str6repeat(inp2))\n",
    "    "
   ]
  },
  {
   "cell_type": "markdown",
   "metadata": {},
   "source": [
    "### warmup 3"
   ]
  },
  {
   "cell_type": "code",
   "execution_count": 3,
   "metadata": {},
   "outputs": [
    {
     "name": "stdout",
     "output_type": "stream",
     "text": [
      "[(None, None), ('o', None), ('i', None), ('r', None), ('a', None)]\n",
      "[('o', 'a'), ('i', 'a'), ('a', 'a'), ('o', 'a'), ('a', 'a')]\n"
     ]
    }
   ],
   "source": [
    "def findVowel(data):\n",
    "    for i in range (0, len(data),1): \n",
    "        if data[i] in \"ariou\":\n",
    "            return data[i]\n",
    "        else: \n",
    "            i +=1\n",
    "            \n",
    "def find2Vowels(data):\n",
    "    data = data.split(\" \")\n",
    "    myLst = []\n",
    "    \n",
    "    for i in range(0, len(data),1):\n",
    "        firstVowel = findVowel(data[i])\n",
    "        lstVowel = findVowel(data[::-1])\n",
    "        myVowels = (firstVowel, lstVowel)\n",
    "        myLst.append(myVowels)\n",
    "    return myLst\n",
    "    \n",
    "        \n",
    "   \n",
    "# test    \n",
    "inp = \"my dog is extremely beautiful\"\n",
    "print(find2Vowels(inp))\n",
    "\n",
    "inp2 = \"today is a good day\"\n",
    "print(find2Vowels(inp2))\n",
    "        \n",
    "    \n"
   ]
  },
  {
   "cell_type": "markdown",
   "metadata": {},
   "source": [
    "### warmup 3"
   ]
  },
  {
   "cell_type": "code",
   "execution_count": 63,
   "metadata": {},
   "outputs": [
    {
     "name": "stdout",
     "output_type": "stream",
     "text": [
      "Econmics\n"
     ]
    }
   ],
   "source": [
    "def rmRepeats(inp):\n",
    "    myLst = []\n",
    "    myStr = ''\n",
    "    \n",
    "    for i in range (0,len(inp),1): \n",
    "        if inp[i].lower() == inp[i-1].lower():   # transfer all to lowercase and check if they are hte same\n",
    "            pass\n",
    "        else: \n",
    "            myStr += inp[i]\n",
    "    return (myStr)\n",
    "\n",
    "    \n",
    "# test\n",
    "inp = \"EeeeeeccccccconnnnnnnnNNNNNNmmmmmMMMMMiiiiiiiIIIIcccCCCCs\"\n",
    "print(rmRepeats(inp))\n",
    "        "
   ]
  },
  {
   "cell_type": "markdown",
   "metadata": {},
   "source": [
    "### Problem 1"
   ]
  },
  {
   "cell_type": "code",
   "execution_count": 1,
   "metadata": {},
   "outputs": [
    {
     "name": "stdout",
     "output_type": "stream",
     "text": [
      "------------------------------ MENU ------------------------------\n",
      "1. Show All Titles\n",
      "2. Show All Date of Publish\n",
      "3. Show All Citated Auhthors\n",
      "4. Show All Abstracts: Caution!! might overflow\n",
      "5. Exit\n",
      "-------------------------------------------------------------------\n",
      "which kind of info you want? \n",
      "you selected \t 1\n",
      "\n",
      "I Found186Titles\n",
      "Here are the TITLES:\n",
      " \n",
      " [\"Fathers' Multiple-Partner Fertility and Children's Educational Outcomes\", 'Changes in Family Structure and Welfare Participation Since the 1960s: The Role of Legal Services', 'New Evidence on the Effects of Mandatory Waiting Periods for Abortion', 'Combining Family History and Machine Learning to Link Historical Records', 'Housing Prices, Inter-generational Co-residence, and \"Excess\" Savings by the Young: Evidence using Chinese Data', 'Preschool Quality and Child Development', 'The Short Term Impact of a Productive Asset Transfer in Families with Child Labor: Experimental Evidence from the Philippines', 'The Labor Supply Consequences of Having a Boy in China', 'Selection into Identification in Fixed Effects Models, with Application to Head Start', 'Creating Moves to Opportunity: Experimental Evidence on Barriers to Neighborhood Choice', 'A Unified Welfare Analysis of Government Policies', 'The Impacts of Physician Payments on Patient Access, Use, and Health', 'The Effects of Schooling on Costless Health Maintenance: Overweight Adolescents and Children in Rural China', \"Do Health Insurance Mandates Spillover to Education? Evidence from Michigan's Autism Insurance Mandate\", 'The Remarkable Unresponsiveness of College Students to Nudging And What We Can Learn from It', 'Fertility Decline in the Civil Rights Era', 'Is Great Information Good Enough?  Evidence from Physicians as Patients', 'Home and School in the Development of Children', 'The Impact of Medicaid on Medical Utilization in a Vulnerable Population: Evidence from COFA Migrants', 'The Impact of Abortion on Crime and Crime-Related Behavior', 'Targeting High School Scholarships to the Poor: The Impact of a Program in Mexico', \"Persistency in Teachers' Grading Bias and Effects on Longer-Term Outcomes: University Admissions Exams and Choice of Field of Study\", 'The Medium-Term Impacts of Girl-Friendly Schools: Seven-Year Evidence from School Construction in Burkina Faso', 'School Desegregation and Black Teacher Employment', 'The Health Impacts of Hospital Delivery Practices', 'Accounting for the Impact of Medicaid on Child Poverty', 'Protecting Infants from Natural Disasters: The Case of Vitamin A Supplementation and a Tornado in Bangladesh', 'Are Referees and Editors in Economics Gender Neutral?', 'When Behavioral Barriers are Too High or Low - How Timing Matters for Parenting Interventions', 'Dust and Death: Evidence from the West African Harmattan', \"The Affordable Care Act's Effects on Patients, Providers and the Economy: What We've Learned So Far\", 'The Use and Misuse of Income Data and Extreme Poverty in the United States', 'Two-way Fixed Effects Estimators with Heterogeneous Treatment Effects', 'Designing Effective Teacher Performance Pay Programs: Experimental Evidence from Tanzania', \"When Dad Can Stay Home: Fathers' Workplace Flexibility and Maternal Health\", 'Distributional Effects of Education on Health', 'Contemporary State Policies and Intergenerational Income Mobility', 'Intergenerational and Intragenerational Externalities of the Perry Preschool Project', 'The Perry Preschoolers at Late Midlife: A Study in Design-Specific Inference', 'Do Stricter Immunization Laws Improve Coverage? Evidence from the Repeal of Non-medical Exemptions for School Mandated Vaccines', 'School Segregation and Racial Gaps in Special Education Identification', 'The Role of Neonatal Health in the Incidence of Childhood Disability', 'Do Income Contingent Student Loan Programs Distort Earnings?  Evidence from the UK', 'Does Gentrification Displace Poor Children?  New Evidence from New York City Medicaid Data', \"Can Successful Schools Replicate? Scaling Up Boston's Charter School Sector\", 'Paid Family Leave and Breastfeeding: Evidence from California', 'Girls, Boys, and High Achievers', 'The Returns to Early-life Interventions for Very Low Birth Weight Children', 'Censorship, Family Planning, and the Historical Fertility Transition', 'Combining Administrative and Survey Data to Improve Income Measurement', 'An Empirical Total Survey Error Decomposition Using Data Combination', 'Intergenerational Mobility between and within Canada and the United States', 'Schools, Neighborhoods, and the Long-Run Effect of Crime-Prone Peers', 'Risk Preferences of Children and Adolescents in Relation to Gender, Cognitive Skills, Soft Skills, and Executive Functions', 'Beyond the Basics: Improving Post-Primary Content Delivery through Classroom Technology', 'The Intergenerational Effects of a Large Wealth Shock: White Southerners After the Civil War', 'The Phenomenon of Summer Diarrhea and its Waning, 1910-1930', 'Counting Defiers', 'The Power of the IUD: Effects of Expanding Access to Contraception Through Title X Clinics', 'The Unwavering SES Achievement Gap: Trends in U.S. Student Performance', 'School Bus Emissions, Student Health, and Academic Performance', 'Long-run Effects from Comprehensive Student Support: Evidence from Pathways to Education', 'A Practical Method to Reduce Privacy Loss when Disclosing Statistics Based on Small Samples', 'The Roots of Health Inequality and The Value of Intra-Family Expertise', 'Wage Equalization and Regional Misallocation: Evidence from Italian and German Provinces', 'The Right to Education Act: Trends in Enrollment, Test Scores, and School Quality', \"Socialized Healthcare and Women's Fertility Decisions\", 'The Economic Value of Breaking Bad: Misbehavior, Schooling and the Labor Market', 'School Finance Equalization Increases Intergenerational Mobility: Evidence from a Simulated-Instruments Approach', 'Children, Unhappiness and Family Finances: Evidence from One Million Europeans', 'Actors in the Child Development Process', 'Bringing Satellite-Based Air Quality Estimates Down to Earth', 'Discrimination In The Age Of Algorithms', 'Universal Basic Income in the US and Advanced Countries', 'Born in the Family: Preferences for Boys and the Gender Gap in Math', 'The Economics of Parenting', 'Effects of Maternal Work Incentives on Adolescent Social Behaviors', 'Child Penalties Across Countries: Evidence and Explanations', 'Fertility Trends in the United States, 1980-2017: The Role of Unintended Births', 'Parental Beliefs about Returns to Different Types of Investments in School Children', 'Different Strokes for Different Folks: Experimental Evidence on the Effectiveness of Input and Output Incentive Contracts for Health Care Providers with Varying Skills', 'Does Parental Quality Matter? Evidence on the Transmission of Human Capital Using Variation in Parental Influence from Death, Divorce, and Family Size', 'Does Pollution Drive Achievement? The Effect of Traffic Pollution on Academic Performance', 'Does School Lunch Fill the \"SNAP Gap\" at the End of the Month?', 'The Impact of a Wartime Health Shock on the Postwar Socioeconomic Status and Mortality of Union Army Veterans and their Children', 'An Extra Year to Learn English? Early Grade Retention and the Human Capital Development of English Learners', 'Folklore', 'The Causal Impact of Removing Children from Abusive and Neglectful Homes', 'Multigenerational Effects of Early Life Health Shocks', 'Does School Spending Matter? The New Literature on an Old Question', 'Using RCTs to Estimate Long-Run Impacts in Development Economics', 'Closing the Gap: The Effect of a Targeted, Tuition-Free Promise on College Choices of High-Achieving, Low-Income Students', 'What is a Good School, and Can Parents Tell? Evidence on the Multidimensionality of School Output', \"Who's Minding the Kids? Experimental Evidence on the Demand for Child Care Quality\", 'Does Remedial Education at Late Childhood Pay Off After All? Long-Run Consequences for University Schooling, Labor Market Outcomes and Inter-Generational Mobility', \"Reshaping Adolescents' Gender Attitudes: Evidence from a School-Based Experiment in India\", 'Intergenerational Mobility in Education: Variation in Geography and Time', 'Shackling the Identification Police?', 'Free for Children? Patient Cost-sharing and Healthcare Utilization', 'Testing, Stress, and Performance: How Students Respond Physiologically to High-Stakes Testing', 'The Returns to Parental Health: Evidence from Indonesia', 'Long-term and Intergenerational Effects of Education: Evidence from School Construction in Indonesia', 'Designed to Fail: Effects of the Default Option and Information Complexity on Student Loan Repayment', 'Teacher Expectations Matter', 'The Long-Run Impacts of Same-Race Teachers', 'Child Access Prevention Laws and Juvenile Firearm-Related Homicides', 'Sex, Drugs, and Baby Booms: Can Behavior Overcome Biology?', 'Quantifying Family, School, and Location Effects in the Presence of  Complementarities and Sorting', 'Grandparents, Moms, or Dads? Why Children of Teen Mothers Do Worse in Life', 'The Opportunity Atlas: Mapping the Childhood Roots of Social Mobility', \"The Role of Parental Wealth and Income in Financing Children's College Attendance and Its Consequences\", 'Errors in Survey Reporting and Imputation and their Effects on Estimates of Food Stamp Program Participation', 'Vanished Classmates: The Effects of Local Immigration Enforcement on Student Enrollment', 'Are Two Bads Better Than One? A Model of Sensory Limitations', 'Early Stimulation and Nutrition: The Impacts of a Scalable Intervention', \"When Studying and Nudging Don't Go as Planned: Unsuccessful Attempts to Help Traditional and Online College Students\", 'Public Health Efforts and the Decline in Urban Mortality', 'Difference-in-Differences with Variation in Treatment Timing', 'Improving Non-Academic Student Outcomes Using Online and Text-Message Coaching', 'School Nutrition and Student Discipline: Effects of Schoolwide Free Meals', 'Schooling, Wealth, Risky Sexual Behavior, and HIV/AIDS in Sub-Saharan Africa', 'Top of the Class: The Importance of Ordinal Rank', 'Understanding Physician Decision Making: The Case of Depression', 'Take Two! SAT Retaking and College Enrollment Gaps', \"Who Benefited from Women's Suffrage?\", 'Charity Begins at Home (and at School): Effects of Religion-Based Discrimination in Education', 'The Short and Long-Run Effects of Attending The Schools that Parents Prefer', 'Supplemental Security Income and Child Outcomes: Evidence from Birth Weight Eligibility Cutoffs', 'Educator Incentives and Educational Triage in Rural Primary Schools', 'Effects of Prenatal Care on Birth Outcomes: Reconciling a Messy Literature', 'Does Television Kill Your Sex Life? Microeconometric Evidence from 80 Countries', 'Inputs, Incentives, and Complementarities in Education: Experimental Evidence from Tanzania', 'Distributing the Green (Cards): Permanent Residency and Personal Income Taxes after the Immigration Reform and Control Act of 1986', 'Heat, Humidity, and Infant Mortality in the Developing World', \"The Promise and Pitfalls of Differences-in-Differences: Reflections on '16 and Pregnant' and Other Applications\", 'Helping Children Catch Up: Early Life Shocks and the PROGRESA Experiment', 'When It Rains It Pours: The Long-run Economic Impacts of Salt Iodization in the United States', 'Testing', 'U.S. Safety Net Programs and Early Life Skills Formation:  Results from a Prospective Longitudinal Cohort Study', 'Too little or too much? Actionable Advice in an Early-Childhood Text Messaging Experiment', 'Temperature and High-Stakes Cognitive Performance: Evidence from the National College Entrance Examination in China', 'Guns and Violence: The Enduring Impact of Crack Cocaine Markets on Young Black Males', 'The Labor Market for Teachers Under Different Pay Schemes', 'Violence while in Utero: The Impact of Assaults During Pregnancy on Birth Outcomes', 'Family Income and the Intergenerational Transmission of Voting Behavior: Evidence from an Income Intervention', 'Local Food Prices, SNAP Purchasing Power, and Child Health', 'Childhood Health Shocks, Comparative Advantage, and Long-Term Outcomes: Evidence from the Last Danish Polio Epidemic', 'Teacher Performance and Accountability Incentives', 'The Mommy Effect: Do Women Anticipate the Employment Effects of Motherhood?', 'Fear and the Safety Net: Evidence from Secure Communities', 'Fetal Shock or Selection? The 1918 Influenza Pandemic and Human Capital Development', 'Does Prenatal WIC Participation Improve Child Outcomes?', 'Cumulative Impacts of Conditional Cash Transfer Programs: Experimental Evidence from Indonesia', \"Do 'All-Age' Bicycle Helmet Laws Work? Evidence from Canada\", 'Pauvreté, Egalité, Mortalité: Mortality (In)Equality in France and the United States', \"Parents' Beliefs About Their Children's Academic Ability: Implications for Educational Investments\", 'Toxic Truth: Lead and Fertility', 'Safety Net Investments in Children', 'The Impact of High School Curriculum on Confidence, Academic Success, and Mental and Physical Well-Being of University Students', 'The Poverty Reduction of Social Security and Means-Tested Transfers', 'Inequality of Educational Opportunity? Schools as Mediators of the Intergenerational Transmission of Income', 'The Production of Inequalities within Families and Across Generations: The Intergenerational Effects of Birth Order and Family Size on Educational Attainment', 'The Long-Term Spillover Effects of Changes in the Return to Schooling', \"Insurance Expansions and Children's Use of Substance Use Disorder Treatment\", 'The Health Effects of Cesarean Delivery for Low-Risk First Births', 'On Heckits, LATE, and Numerical Equivalence', 'Leveling the Playing Field for High School Choice: Results from a Field Experiment of Informational Interventions', \"Mortality from Nestlé's Marketing of Infant Formula in Low and Middle-Income Countries\", 'More than Just a Nudge: Supporting Kindergarten Parents with Differentiated and Personalized Text-Messages', 'Race and Economic Opportunity in the United States: An Intergenerational Perspective', 'U.S. Employment and Opioids: Is There a Connection?', 'The Impacts of Paid Family Leave Benefits: Regression Kink Evidence from California Administrative Data', 'Estimating the Effects of a Large For-Profit Charter School Operator', \"Congestion Pricing, Air Pollution and Children's Health\", 'Bartik Instruments: What, When, Why, and How', 'Is Fertility a Leading Economic Indicator?', 'Sunlight and Protection Against Influenza', 'Do Human Capital Decisions Respond to the Returns to Education? Evidence from DACA', 'Do Conditional Cash Transfers Improve Economic Outcomes in the Next Generation? Evidence from Mexico', 'Making Big Changes: The Impact of Moves on Marriage among U.S. Army Personnel', 'Intergenerational Spillovers in Disability Insurance', 'Intergenerational Effects of Incarceration', 'The Effect of Education on Health and Mortality: A Review of Experimental and Quasi-Experimental Evidence.', 'Children and Gender Inequality: Evidence from Denmark', 'Do School Spending Cuts Matter? Evidence from The Great Recession', \"Education Reform in General Equilibrium: Evidence from California's Class Size Reduction\"]\n"
     ]
    }
   ],
   "source": [
    "import json\n",
    "import re\n",
    "\n",
    "    \n",
    "# parse the title\n",
    "def title(data):\n",
    "    title = re.findall(r'<title>(.*?)</title>', data)\n",
    "    return title\n",
    "\n",
    "# parse the dop\n",
    "def dop(data):\n",
    "    dop = re.findall(r'<meta name=\"citation_date\" content=\"(.*?)\">', data)\n",
    "    return dop\n",
    "\n",
    "# authors\n",
    "def cauthors(data):\n",
    "    cauthors = re.findall(r'<meta name=\"citation_author\" content=(.*?)>', data)\n",
    "    return cauthors\n",
    "\n",
    "# abstracts\n",
    "def abst(data):\n",
    "    abst = re.findall(r'<p style=\"margin-left: 40px; margin-right: 40px; text-align: justify\">\\n(.*?)\\n</p>',data)\n",
    "    return abst\n",
    "\n",
    "\n",
    "# form one list cotain all the 4 information of one article\n",
    "def parse1Lst(data):\n",
    "    myLst = [] \n",
    "    \n",
    "    myLst.append(title(data))\n",
    "    myLst.append(dop(data))\n",
    "    myLst.append(cauthors(data))\n",
    "    myLst.append(abst(data))        \n",
    "    return myLst\n",
    "\n",
    "\n",
    "def parsePaprs(filepath):\n",
    "    with open (filepath, encoding=\"utf8\") as f:\n",
    "        data = json.load(f)\n",
    "    \n",
    "    \n",
    "    # Print welcome messages and show the basci info such as len of the data --> # of papers\n",
    "\n",
    "    \n",
    "    \n",
    "    titleLst = []\n",
    "    dateLst = []\n",
    "    cauthorLst = []\n",
    "    abstLst = [] \n",
    "        \n",
    "    for i in range (0, len(data), 1): \n",
    "        title = (parse1Lst(data[i])[0]) \n",
    "        date = (parse1Lst(data[i])[1])\n",
    "        cauthor= (parse1Lst(data[i])[2])\n",
    "        abst = (parse1Lst(data[i])[3])\n",
    "        \n",
    "        \n",
    "        titleLst.append(title)\n",
    "        dateLst.append(date)\n",
    "        cauthorLst.append(cauthor)\n",
    "        abstLst.append(abst)\n",
    "        \n",
    "    titleLst = [titles[0] for titles in titleLst]\n",
    "    dateLst = [date[0] for date in dateLst]\n",
    "    \n",
    "    \n",
    "    # cauthorLst = [cauthor[0] for cauthor in cauthorLst] \n",
    "    # the reason that I remove this line is becasue one article contains mutiple auhtors, just so that \n",
    "    # we can differentiate which authors wrote which article using the form of sublists .\n",
    "    \n",
    "    # also, for the asbtract section, I want that users can differetiate between them\n",
    "    \n",
    "    \n",
    "    print (30 * \"-\" , \"MENU\" , 30 * \"-\")\n",
    "    print (\"1. Show All Titles\")\n",
    "    print (\"2. Show All Date of Publish\")\n",
    "    print (\"3. Show All Citated Auhthors\")\n",
    "    print (\"4. Show All Abstracts: Caution!! might overflow\")\n",
    "    print (\"5. Exit\")\n",
    "    print (67 * \"-\")\n",
    "    usrInput = int (input(\"which kind of info you want? \\nyou selected \\t \"))\n",
    "    \n",
    "    if usrInput == 1:\n",
    "        print(\"\\nI Found\" + str(len(titleLst))+ \"Titles\")\n",
    "        print (\"Here are the TITLES:\\n \\n\", titleLst, )\n",
    "        \n",
    "        \n",
    "    if usrInput == 2: \n",
    "        print(\"\\nThere are\" + \" \" + str( len(dateLst) ) + \" \" + \"Published Dates\" )\n",
    "        print (\"Here are the publication Date: \\n \\n\", dateLst, )\n",
    "        \n",
    "    if usrInput == 3: \n",
    "        print(\"\\nThere are\" + \" \" + str( len(cauthorLst) ) + \" \" + \"cited/co-authors\" )\n",
    "        print (\"Here are the Citated Authors \\n \\n \", cauthorLst)\n",
    "        \n",
    "    if usrInput == 4:\n",
    "        print(\"\\nThere are\" + \" \" + str( len(abstLst) ) + \" \" + \"Abstracts\" )\n",
    "        print (\"Here are the Abstract of them \\nCaution!!!!! \\nPossibility of Overflow \\n \\n \", abstLst)\n",
    "    \n",
    "    if usrInput == 5:\n",
    "        print(\"\\nThanks for using!! Goodbye 再 见 \\n\")\n",
    "        return 0\n",
    "\n",
    "\n",
    "        \n",
    "\n",
    "        \n",
    "        \n",
    "# test function;\n",
    "parsePaprs(\"./nber.json\")\n",
    "    \n",
    "\n"
   ]
  },
  {
   "cell_type": "markdown",
   "metadata": {},
   "source": [
    "### But I think there should be an easier way to solve this problem.... (at least easier to find the title and published date)\n",
    "\n",
    "* however in this way, the authors and abstract part do not have the [ ] to seperate from each papers;"
   ]
  },
  {
   "cell_type": "code",
   "execution_count": 3,
   "metadata": {},
   "outputs": [
    {
     "name": "stdout",
     "output_type": "stream",
     "text": [
      "[\"Fathers' Multiple-Partner Fertility and Children's Educational Outcomes\", 'Changes in Family Structure and Welfare Participation Since the 1960s: The Role of Legal Services', 'New Evidence on the Effects of Mandatory Waiting Periods for Abortion', 'Combining Family History and Machine Learning to Link Historical Records', 'Housing Prices, Inter-generational Co-residence, and \"Excess\" Savings by the Young: Evidence using Chinese Data', 'Preschool Quality and Child Development', 'The Short Term Impact of a Productive Asset Transfer in Families with Child Labor: Experimental Evidence from the Philippines', 'The Labor Supply Consequences of Having a Boy in China', 'Selection into Identification in Fixed Effects Models, with Application to Head Start', 'Creating Moves to Opportunity: Experimental Evidence on Barriers to Neighborhood Choice', 'A Unified Welfare Analysis of Government Policies', 'The Impacts of Physician Payments on Patient Access, Use, and Health', 'The Effects of Schooling on Costless Health Maintenance: Overweight Adolescents and Children in Rural China', \"Do Health Insurance Mandates Spillover to Education? Evidence from Michigan's Autism Insurance Mandate\", 'The Remarkable Unresponsiveness of College Students to Nudging And What We Can Learn from It', 'Fertility Decline in the Civil Rights Era', 'Is Great Information Good Enough?  Evidence from Physicians as Patients', 'Home and School in the Development of Children', 'The Impact of Medicaid on Medical Utilization in a Vulnerable Population: Evidence from COFA Migrants', 'The Impact of Abortion on Crime and Crime-Related Behavior', 'Targeting High School Scholarships to the Poor: The Impact of a Program in Mexico', \"Persistency in Teachers' Grading Bias and Effects on Longer-Term Outcomes: University Admissions Exams and Choice of Field of Study\", 'The Medium-Term Impacts of Girl-Friendly Schools: Seven-Year Evidence from School Construction in Burkina Faso', 'School Desegregation and Black Teacher Employment', 'The Health Impacts of Hospital Delivery Practices', 'Accounting for the Impact of Medicaid on Child Poverty', 'Protecting Infants from Natural Disasters: The Case of Vitamin A Supplementation and a Tornado in Bangladesh', 'Are Referees and Editors in Economics Gender Neutral?', 'When Behavioral Barriers are Too High or Low - How Timing Matters for Parenting Interventions', 'Dust and Death: Evidence from the West African Harmattan', \"The Affordable Care Act's Effects on Patients, Providers and the Economy: What We've Learned So Far\", 'The Use and Misuse of Income Data and Extreme Poverty in the United States', 'Two-way Fixed Effects Estimators with Heterogeneous Treatment Effects', 'Designing Effective Teacher Performance Pay Programs: Experimental Evidence from Tanzania', \"When Dad Can Stay Home: Fathers' Workplace Flexibility and Maternal Health\", 'Distributional Effects of Education on Health', 'Contemporary State Policies and Intergenerational Income Mobility', 'Intergenerational and Intragenerational Externalities of the Perry Preschool Project', 'The Perry Preschoolers at Late Midlife: A Study in Design-Specific Inference', 'Do Stricter Immunization Laws Improve Coverage? Evidence from the Repeal of Non-medical Exemptions for School Mandated Vaccines', 'School Segregation and Racial Gaps in Special Education Identification', 'The Role of Neonatal Health in the Incidence of Childhood Disability', 'Do Income Contingent Student Loan Programs Distort Earnings?  Evidence from the UK', 'Does Gentrification Displace Poor Children?  New Evidence from New York City Medicaid Data', \"Can Successful Schools Replicate? Scaling Up Boston's Charter School Sector\", 'Paid Family Leave and Breastfeeding: Evidence from California', 'Girls, Boys, and High Achievers', 'The Returns to Early-life Interventions for Very Low Birth Weight Children', 'Censorship, Family Planning, and the Historical Fertility Transition', 'Combining Administrative and Survey Data to Improve Income Measurement', 'An Empirical Total Survey Error Decomposition Using Data Combination', 'Intergenerational Mobility between and within Canada and the United States', 'Schools, Neighborhoods, and the Long-Run Effect of Crime-Prone Peers', 'Risk Preferences of Children and Adolescents in Relation to Gender, Cognitive Skills, Soft Skills, and Executive Functions', 'Beyond the Basics: Improving Post-Primary Content Delivery through Classroom Technology', 'The Intergenerational Effects of a Large Wealth Shock: White Southerners After the Civil War', 'The Phenomenon of Summer Diarrhea and its Waning, 1910-1930', 'Counting Defiers', 'The Power of the IUD: Effects of Expanding Access to Contraception Through Title X Clinics', 'The Unwavering SES Achievement Gap: Trends in U.S. Student Performance', 'School Bus Emissions, Student Health, and Academic Performance', 'Long-run Effects from Comprehensive Student Support: Evidence from Pathways to Education', 'A Practical Method to Reduce Privacy Loss when Disclosing Statistics Based on Small Samples', 'The Roots of Health Inequality and The Value of Intra-Family Expertise', 'Wage Equalization and Regional Misallocation: Evidence from Italian and German Provinces', 'The Right to Education Act: Trends in Enrollment, Test Scores, and School Quality', \"Socialized Healthcare and Women's Fertility Decisions\", 'The Economic Value of Breaking Bad: Misbehavior, Schooling and the Labor Market', 'School Finance Equalization Increases Intergenerational Mobility: Evidence from a Simulated-Instruments Approach', 'Children, Unhappiness and Family Finances: Evidence from One Million Europeans', 'Actors in the Child Development Process', 'Bringing Satellite-Based Air Quality Estimates Down to Earth', 'Discrimination In The Age Of Algorithms', 'Universal Basic Income in the US and Advanced Countries', 'Born in the Family: Preferences for Boys and the Gender Gap in Math', 'The Economics of Parenting', 'Effects of Maternal Work Incentives on Adolescent Social Behaviors', 'Child Penalties Across Countries: Evidence and Explanations', 'Fertility Trends in the United States, 1980-2017: The Role of Unintended Births', 'Parental Beliefs about Returns to Different Types of Investments in School Children', 'Different Strokes for Different Folks: Experimental Evidence on the Effectiveness of Input and Output Incentive Contracts for Health Care Providers with Varying Skills', 'Does Parental Quality Matter? Evidence on the Transmission of Human Capital Using Variation in Parental Influence from Death, Divorce, and Family Size', 'Does Pollution Drive Achievement? The Effect of Traffic Pollution on Academic Performance', 'Does School Lunch Fill the \"SNAP Gap\" at the End of the Month?', 'The Impact of a Wartime Health Shock on the Postwar Socioeconomic Status and Mortality of Union Army Veterans and their Children', 'An Extra Year to Learn English? Early Grade Retention and the Human Capital Development of English Learners', 'Folklore', 'The Causal Impact of Removing Children from Abusive and Neglectful Homes', 'Multigenerational Effects of Early Life Health Shocks', 'Does School Spending Matter? The New Literature on an Old Question', 'Using RCTs to Estimate Long-Run Impacts in Development Economics', 'Closing the Gap: The Effect of a Targeted, Tuition-Free Promise on College Choices of High-Achieving, Low-Income Students', 'What is a Good School, and Can Parents Tell? Evidence on the Multidimensionality of School Output', \"Who's Minding the Kids? Experimental Evidence on the Demand for Child Care Quality\", 'Does Remedial Education at Late Childhood Pay Off After All? Long-Run Consequences for University Schooling, Labor Market Outcomes and Inter-Generational Mobility', \"Reshaping Adolescents' Gender Attitudes: Evidence from a School-Based Experiment in India\", 'Intergenerational Mobility in Education: Variation in Geography and Time', 'Shackling the Identification Police?', 'Free for Children? Patient Cost-sharing and Healthcare Utilization', 'Testing, Stress, and Performance: How Students Respond Physiologically to High-Stakes Testing', 'The Returns to Parental Health: Evidence from Indonesia', 'Long-term and Intergenerational Effects of Education: Evidence from School Construction in Indonesia', 'Designed to Fail: Effects of the Default Option and Information Complexity on Student Loan Repayment', 'Teacher Expectations Matter', 'The Long-Run Impacts of Same-Race Teachers', 'Child Access Prevention Laws and Juvenile Firearm-Related Homicides', 'Sex, Drugs, and Baby Booms: Can Behavior Overcome Biology?', 'Quantifying Family, School, and Location Effects in the Presence of  Complementarities and Sorting', 'Grandparents, Moms, or Dads? Why Children of Teen Mothers Do Worse in Life', 'The Opportunity Atlas: Mapping the Childhood Roots of Social Mobility', \"The Role of Parental Wealth and Income in Financing Children's College Attendance and Its Consequences\", 'Errors in Survey Reporting and Imputation and their Effects on Estimates of Food Stamp Program Participation', 'Vanished Classmates: The Effects of Local Immigration Enforcement on Student Enrollment', 'Are Two Bads Better Than One? A Model of Sensory Limitations', 'Early Stimulation and Nutrition: The Impacts of a Scalable Intervention', \"When Studying and Nudging Don't Go as Planned: Unsuccessful Attempts to Help Traditional and Online College Students\", 'Public Health Efforts and the Decline in Urban Mortality', 'Difference-in-Differences with Variation in Treatment Timing', 'Improving Non-Academic Student Outcomes Using Online and Text-Message Coaching', 'School Nutrition and Student Discipline: Effects of Schoolwide Free Meals', 'Schooling, Wealth, Risky Sexual Behavior, and HIV/AIDS in Sub-Saharan Africa', 'Top of the Class: The Importance of Ordinal Rank', 'Understanding Physician Decision Making: The Case of Depression', 'Take Two! SAT Retaking and College Enrollment Gaps', \"Who Benefited from Women's Suffrage?\", 'Charity Begins at Home (and at School): Effects of Religion-Based Discrimination in Education', 'The Short and Long-Run Effects of Attending The Schools that Parents Prefer', 'Supplemental Security Income and Child Outcomes: Evidence from Birth Weight Eligibility Cutoffs', 'Educator Incentives and Educational Triage in Rural Primary Schools', 'Effects of Prenatal Care on Birth Outcomes: Reconciling a Messy Literature', 'Does Television Kill Your Sex Life? Microeconometric Evidence from 80 Countries', 'Inputs, Incentives, and Complementarities in Education: Experimental Evidence from Tanzania', 'Distributing the Green (Cards): Permanent Residency and Personal Income Taxes after the Immigration Reform and Control Act of 1986', 'Heat, Humidity, and Infant Mortality in the Developing World', \"The Promise and Pitfalls of Differences-in-Differences: Reflections on '16 and Pregnant' and Other Applications\", 'Helping Children Catch Up: Early Life Shocks and the PROGRESA Experiment', 'When It Rains It Pours: The Long-run Economic Impacts of Salt Iodization in the United States', 'Testing', 'U.S. Safety Net Programs and Early Life Skills Formation:  Results from a Prospective Longitudinal Cohort Study', 'Too little or too much? Actionable Advice in an Early-Childhood Text Messaging Experiment', 'Temperature and High-Stakes Cognitive Performance: Evidence from the National College Entrance Examination in China', 'Guns and Violence: The Enduring Impact of Crack Cocaine Markets on Young Black Males', 'The Labor Market for Teachers Under Different Pay Schemes', 'Violence while in Utero: The Impact of Assaults During Pregnancy on Birth Outcomes', 'Family Income and the Intergenerational Transmission of Voting Behavior: Evidence from an Income Intervention', 'Local Food Prices, SNAP Purchasing Power, and Child Health', 'Childhood Health Shocks, Comparative Advantage, and Long-Term Outcomes: Evidence from the Last Danish Polio Epidemic', 'Teacher Performance and Accountability Incentives', 'The Mommy Effect: Do Women Anticipate the Employment Effects of Motherhood?', 'Fear and the Safety Net: Evidence from Secure Communities', 'Fetal Shock or Selection? The 1918 Influenza Pandemic and Human Capital Development', 'Does Prenatal WIC Participation Improve Child Outcomes?', 'Cumulative Impacts of Conditional Cash Transfer Programs: Experimental Evidence from Indonesia', \"Do 'All-Age' Bicycle Helmet Laws Work? Evidence from Canada\", 'Pauvreté, Egalité, Mortalité: Mortality (In)Equality in France and the United States', \"Parents' Beliefs About Their Children's Academic Ability: Implications for Educational Investments\", 'Toxic Truth: Lead and Fertility', 'Safety Net Investments in Children', 'The Impact of High School Curriculum on Confidence, Academic Success, and Mental and Physical Well-Being of University Students', 'The Poverty Reduction of Social Security and Means-Tested Transfers', 'Inequality of Educational Opportunity? Schools as Mediators of the Intergenerational Transmission of Income', 'The Production of Inequalities within Families and Across Generations: The Intergenerational Effects of Birth Order and Family Size on Educational Attainment', 'The Long-Term Spillover Effects of Changes in the Return to Schooling', \"Insurance Expansions and Children's Use of Substance Use Disorder Treatment\", 'The Health Effects of Cesarean Delivery for Low-Risk First Births', 'On Heckits, LATE, and Numerical Equivalence', 'Leveling the Playing Field for High School Choice: Results from a Field Experiment of Informational Interventions', \"Mortality from Nestlé's Marketing of Infant Formula in Low and Middle-Income Countries\", 'More than Just a Nudge: Supporting Kindergarten Parents with Differentiated and Personalized Text-Messages', 'Race and Economic Opportunity in the United States: An Intergenerational Perspective', 'U.S. Employment and Opioids: Is There a Connection?', 'The Impacts of Paid Family Leave Benefits: Regression Kink Evidence from California Administrative Data', 'Estimating the Effects of a Large For-Profit Charter School Operator', \"Congestion Pricing, Air Pollution and Children's Health\", 'Bartik Instruments: What, When, Why, and How', 'Is Fertility a Leading Economic Indicator?', 'Sunlight and Protection Against Influenza', 'Do Human Capital Decisions Respond to the Returns to Education? Evidence from DACA', 'Do Conditional Cash Transfers Improve Economic Outcomes in the Next Generation? Evidence from Mexico', 'Making Big Changes: The Impact of Moves on Marriage among U.S. Army Personnel', 'Intergenerational Spillovers in Disability Insurance', 'Intergenerational Effects of Incarceration', 'The Effect of Education on Health and Mortality: A Review of Experimental and Quasi-Experimental Evidence.', 'Children and Gender Inequality: Evidence from Denmark', 'Do School Spending Cuts Matter? Evidence from The Great Recession', \"Education Reform in General Equilibrium: Evidence from California's Class Size Reduction\"]\n",
      "['2019-09-05', '2019-09-05', '2019-09-05', '2019-09-05', '2019-08-29', '2019-08-29', '2019-08-29', '2019-08-22', '2019-08-22', '2019-08-15', '2019-08-08', '2019-07-19', '2019-07-19', '2019-07-19', '2019-07-11', '2019-07-05', '2019-07-05', '2019-07-05', '2019-07-05', '2019-06-27', '2019-06-27', '2019-06-27', '2019-06-27', '2019-06-20', '2019-06-20', '2019-06-20', '2019-06-20', '2019-06-14', '2019-06-14', '2019-06-14', '2019-06-07', '2019-05-30', '2019-05-30', '2019-05-30', '2019-05-30', '2019-05-30', '2019-05-30', '2019-05-30', '2019-05-30', '2019-05-16', '2019-05-10', '2019-05-10', '2019-05-10', '2019-05-03', '2019-05-03', '2019-04-25', '2019-04-19', '2019-04-11', '2019-04-11', '2019-04-11', '2019-04-11', '2019-04-05', '2019-04-04', '2019-04-04', '2019-03-28', '2019-03-28', '2019-03-21', '2019-03-14', '2019-03-14', '2019-03-14', '2019-03-07', '2019-03-07', '2019-03-07', '2019-02-28', '2019-02-28', '2019-02-28', '2019-02-28', '2019-02-28', '2019-02-28', '2019-02-22', '2019-02-22', '2019-02-14', '2019-02-07', '2019-02-07', '2019-02-07', '2019-02-07', '2019-02-07', '2019-02-07', '2019-01-31', '2019-01-31', '2019-01-31', '2019-01-24', '2019-01-24', '2019-01-24', '2019-01-24', '2019-01-17', '2019-01-10', '2019-01-03', '2018-12-20', '2018-12-13', '2018-12-13', '2018-12-07', '2018-12-07', '2018-12-07', '2018-12-07', '2018-12-07', '2018-12-07', '2018-11-30', '2018-11-30', '2018-11-30', '2018-11-30', '2018-11-16', '2018-11-16', '2018-11-09', '2018-11-09', '2018-11-01', '2018-11-01', '2018-10-18', '2018-10-11', '2018-10-11', '2018-10-11', '2018-10-11', '2018-09-21', '2018-09-21', '2018-09-14', '2018-09-14', '2018-09-14', '2018-09-06', '2018-09-06', '2018-09-06', '2018-08-30', '2018-08-30', '2018-08-30', '2018-08-17', '2018-08-17', '2018-08-17', '2018-08-17', '2018-08-17', '2018-08-17', '2018-08-02', '2018-08-02', '2018-07-26', '2018-07-26', '2018-07-26', '2018-07-19', '2018-07-19', '2018-07-19', '2018-07-19', '2018-07-13', '2018-07-13', '2018-07-13', '2018-07-13', '2018-07-13', '2018-07-13', '2018-06-29', '2018-06-29', '2018-06-21', '2018-06-21', '2018-06-21', '2018-06-14', '2018-06-14', '2018-06-07', '2018-05-31', '2018-05-24', '2018-05-18', '2018-05-18', '2018-05-18', '2018-05-10', '2018-05-03', '2018-05-03', '2018-04-19', '2018-04-19', '2018-04-12', '2018-04-12', '2018-04-05', '2018-04-05', '2018-03-29', '2018-03-29', '2018-03-29', '2018-03-22', '2018-03-22', '2018-03-22', '2018-03-22', '2018-03-16', '2018-03-16', '2018-02-22', '2018-02-15', '2018-02-09', '2018-02-08', '2018-02-08', '2018-02-08', '2018-01-19', '2018-01-19', '2018-01-19', '2018-01-11', '2018-01-05']\n"
     ]
    }
   ],
   "source": [
    "import json\n",
    "import re\n",
    "\n",
    "def anotherWay(filepath):\n",
    "    with open (filepath, encoding=\"utf8\") as f:\n",
    "        data = json.load(f)\n",
    "    \n",
    "    \n",
    "    myStr = ''.join(data)\n",
    "    \n",
    "    # Got Title\n",
    "    title_= title(myStr)\n",
    "    \n",
    "    # Got Date\n",
    "    date = dop(myStr)\n",
    "    \n",
    "    # Got all the Citation Authors\n",
    "    authorsCited = cauthors(myStr)\n",
    "    \n",
    "    # Got all the abstracts\n",
    "    abstract = abst(myStr)\n",
    "    \n",
    "    \n",
    "    \n",
    "    print(title_)\n",
    "    print(date)\n",
    "#     print(authorsCited)\n",
    "#     print(abstract)\n",
    "\n",
    "\n",
    "\n",
    "anotherWay(\"./nber.json\")"
   ]
  }
 ],
 "metadata": {
  "kernelspec": {
   "display_name": "Python 3",
   "language": "python",
   "name": "python3"
  },
  "language_info": {
   "codemirror_mode": {
    "name": "ipython",
    "version": 3
   },
   "file_extension": ".py",
   "mimetype": "text/x-python",
   "name": "python",
   "nbconvert_exporter": "python",
   "pygments_lexer": "ipython3",
   "version": "3.7.3"
  }
 },
 "nbformat": 4,
 "nbformat_minor": 2
}
