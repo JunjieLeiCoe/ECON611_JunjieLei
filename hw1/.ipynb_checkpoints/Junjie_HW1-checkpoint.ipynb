{
 "cells": [
  {
   "cell_type": "markdown",
   "metadata": {},
   "source": [
    "\n",
    "JunjieLei ECON611 HW1\n",
    "---"
   ]
  },
  {
   "cell_type": "code",
   "execution_count": 2,
   "metadata": {},
   "outputs": [],
   "source": [
    "# loading packages\n",
    "import json\n",
    "import re"
   ]
  },
  {
   "cell_type": "markdown",
   "metadata": {},
   "source": [
    "## Warm-Up\n",
    "---"
   ]
  },
  {
   "cell_type": "markdown",
   "metadata": {},
   "source": [
    "### warmup 1"
   ]
  },
  {
   "cell_type": "code",
   "execution_count": 13,
   "metadata": {},
   "outputs": [
    {
     "name": "stdout",
     "output_type": "stream",
     "text": [
      "dlrow olleh\n",
      "dlrow olleh\n",
      "iuhuhz\n"
     ]
    }
   ],
   "source": [
    "# 2 ways we can do this \n",
    "inp = \"hello world\"\n",
    "# --------------------------\n",
    "inp = inp[::-1] \n",
    "print(inp)\n",
    "\n",
    "# --------------------------\n",
    "\n",
    "\n",
    "def rverse_wd(inp):\n",
    "    index = 0\n",
    "    indexR = -1\n",
    "    reverse_str = \"\"\n",
    "    \n",
    "    while index < len(inp):\n",
    "        reverse_str += (inp[indexR])\n",
    "        index += 1 \n",
    "        indexR -= 1\n",
    "    return reverse_str\n",
    "\n",
    "\n",
    "\n",
    "# test function\n",
    "inp = \"hello world\"\n",
    "print(rverse_wd(inp))\n",
    "\n",
    "inp2 = \"zhuhui\"\n",
    "print(rverse_wd(inp2))\n",
    "\n"
   ]
  },
  {
   "cell_type": "markdown",
   "metadata": {},
   "source": [
    "### warmup 2"
   ]
  },
  {
   "cell_type": "code",
   "execution_count": 12,
   "metadata": {},
   "outputs": [
    {
     "name": "stdout",
     "output_type": "stream",
     "text": [
      "['hello worldhello worldhello worldhello worldhello worldhello world', 'ECON611abcECON611abcECON611abcECON611abcECON611abcECON611abc', 'defdefdefdefdefdef']\n",
      "['aaaaaa', 'hellohellohellohellohellohello']\n",
      "['namenamenamenamenamename', 'othersothersothersothersothersothers']\n"
     ]
    }
   ],
   "source": [
    "\n",
    "def str6repeat(inp):\n",
    "\n",
    "    mylst = []\n",
    "    index = 0\n",
    "    \n",
    "    while index < len(inp):\n",
    "        mylst.append(inp[index]*6)\n",
    "        index += 1\n",
    "    return mylst\n",
    "\n",
    "\n",
    "\n",
    "# test\n",
    "inp = ['hello world', 'ECON611' 'abc', 'def']\n",
    "print (str6repeat(inp))\n",
    "\n",
    "inp = [\"a\", 'hello']\n",
    "print(str6repeat(inp))\n",
    "\n",
    "inp2 = [\"name\", \"others\"]\n",
    "print(str6repeat(inp2))\n",
    "    "
   ]
  },
  {
   "cell_type": "markdown",
   "metadata": {},
   "source": [
    "### warmup 3"
   ]
  },
  {
   "cell_type": "code",
   "execution_count": 10,
   "metadata": {},
   "outputs": [
    {
     "name": "stdout",
     "output_type": "stream",
     "text": [
      "[(None, None), ('o', 'o'), ('i', 'i'), ('e', 'e'), ('e', 'u')]\n",
      "[('o', 'a'), ('i', 'i'), ('a', 'a'), ('o', 'o'), ('a', 'a')]\n"
     ]
    }
   ],
   "source": [
    "def find_vowel_head(mystr):\n",
    "    for index_s in range (len(mystr)):\n",
    "        if mystr[index_s] in 'aeiou':\n",
    "            return mystr[index_s]\n",
    "        else:\n",
    "            index_s += 1\n",
    "    return None\n",
    "\n",
    "def find_vowel_tail(mystr):\n",
    "    index_t = -1\n",
    "    while index_t >= -len(mystr):\n",
    "        if mystr[index_t] in 'aeiou':\n",
    "            return mystr[index_t]\n",
    "        else: \n",
    "            index_t -=1\n",
    "    return None\n",
    "\n",
    "def hunt_vowel(inp):\n",
    "    str = inp.split(\" \")\n",
    "    vowelLst = []\n",
    "    \n",
    "    for i in range (0, len(str), 1):\n",
    "        fvowel = find_vowel_head(str[i])\n",
    "        lstvowel = find_vowel_tail(str[i])\n",
    "        myvowel = (fvowel, lstvowel)\n",
    "        vowelLst.append(myvowel)\n",
    "    return vowelLst\n",
    "\n",
    "# Or we can call the rverse_wd function to reverse the order of the word; then we parse the same string for 2 times;\n",
    "\n",
    "\n",
    "   \n",
    "# test    \n",
    "inp = \"my dog is extremely beautiful\"\n",
    "print(hunt_vowel(inp))\n",
    "\n",
    "inp2 = \"today is a good day\"\n",
    "print(hunt_vowel(inp2))\n",
    "        \n",
    "    \n"
   ]
  },
  {
   "cell_type": "markdown",
   "metadata": {},
   "source": [
    "### warmup 3"
   ]
  },
  {
   "cell_type": "code",
   "execution_count": 63,
   "metadata": {},
   "outputs": [
    {
     "name": "stdout",
     "output_type": "stream",
     "text": [
      "Econmics\n"
     ]
    }
   ],
   "source": [
    "def rmRepeats(inp):\n",
    "    myLst = []\n",
    "    myStr = ''\n",
    "    \n",
    "    for i in range (0,len(inp),1): \n",
    "        if inp[i].lower() == inp[i-1].lower():   # transfer all to lowercase and check if they are hte same\n",
    "            pass\n",
    "        else: \n",
    "            myStr += inp[i]\n",
    "    return (myStr)\n",
    "\n",
    "    \n",
    "# test\n",
    "inp = \"EeeeeeccccccconnnnnnnnNNNNNNmmmmmMMMMMiiiiiiiIIIIcccCCCCs\"\n",
    "print(rmRepeats(inp))\n",
    "        "
   ]
  },
  {
   "cell_type": "markdown",
   "metadata": {},
   "source": [
    "### Problem 1"
   ]
  },
  {
   "cell_type": "code",
   "execution_count": 17,
   "metadata": {
    "scrolled": true
   },
   "outputs": [
    {
     "name": "stdout",
     "output_type": "stream",
     "text": [
      "------------------------------ MENU ------------------------------\n",
      "welcome! select your choice\n",
      "1.  title\n",
      "2.  date of publication\n",
      "3.  citations\n",
      "4.  abstract\n",
      "5.  Exit\n",
      "-------------------------------------------------------------------\n",
      "plz enter your selection \n",
      " you selected: \t4\n",
      "['This paper evaluates the effects of the War on Poverty’s Legal Services Program (LSP) on family structure and welfare participation. LSPs provided subsidized legal assistance to poor communities, focusing on divorce and welfare access. We use a difference-in-differences research design based on the rollout of the program to 251 counties from 1965 to 1975. We find temporary increases in divorce and persistent increases in welfare participation and nonmarital birth rates. Nonmarital births rose because marriage rates fell, not because birth rates rose. Expanded access to legal institutions thus contributed, directly and indirectly, to changes in family structure in the 1960s.']\n"
     ]
    }
   ],
   "source": [
    "import json\n",
    "import re\n",
    "\n",
    "with open(\"./nber.json\", encoding=\"utf8\") as f:\n",
    "    data = json.load(f)\n",
    "    \n",
    "\n",
    "# parse the title\n",
    "def title(data):\n",
    "    title = re.findall(r'<title>(.*?)</title>', data)\n",
    "    return title\n",
    "\n",
    "# parse the dop\n",
    "def dop(data):\n",
    "    dop = re.findall(r'<meta name=\"citation_date\" content=\"(.*?)\">', data)\n",
    "    return dop\n",
    "\n",
    "# authors\n",
    "def cauthors(data):\n",
    "    cauthors = re.findall(r'<meta name=\"citation_author\" content=(.*?)>', data)\n",
    "    return cauthors\n",
    "\n",
    "# abstracts\n",
    "def abst(data):\n",
    "    abst = re.findall(r'<p style=\"margin-left: 40px; margin-right: 40px; text-align: justify\">\\n(.*?)\\n</p>',data)\n",
    "    return abst\n",
    "\n",
    "\n",
    "\n",
    "#------------- write it in a function ------------ \n",
    "\n",
    "\n",
    "def parsePaprs(filepath):\n",
    "    with open (filepath, encoding=\"utf8\") as f:\n",
    "        data = json.load(f)\n",
    "        \n",
    "    # data = ''.join(data) \n",
    "    \n",
    "    # in this line I want to combine all the elements in the list into a string obj; \n",
    "    # do not need to worry abt the data[index] anymore ;\n",
    "    # however, it does not seems necessary\n",
    "    \n",
    "    \n",
    "    # print the menu\n",
    "    print (30 * \"-\" , \"MENU\" , 30 * \"-\")\n",
    "    print (\"welcome! select your choice\")\n",
    "    print (\"1.  title\" )\n",
    "    print (\"2.  date of publication\")\n",
    "    print (\"3.  citations\")\n",
    "    \n",
    "    print (\"4.  abstract\")\n",
    "    print (\"5.  Exit\")\n",
    "    print (67 * \"-\")\n",
    "    \n",
    "    choice = int(input(\"plz enter your selection \\n you selected: \\t\"))\n",
    "    \n",
    "    if choice == 1:\n",
    "        print(title(data[0]))\n",
    "    elif choice == 2:\n",
    "        print(dop(data[0]))\n",
    "    elif choice == 3:\n",
    "        print(cauthors(data[0]))\n",
    "    elif choice == 4: \n",
    "        print(abst(data[1]))\n",
    "    elif choice == 5:\n",
    "        return 1\n",
    "\n",
    "    \n",
    "# test function;\n",
    "parsePaprs(\"./nber.json\")\n",
    "    \n",
    "\n"
   ]
  }
 ],
 "metadata": {
  "kernelspec": {
   "display_name": "Python 3",
   "language": "python",
   "name": "python3"
  },
  "language_info": {
   "codemirror_mode": {
    "name": "ipython",
    "version": 3
   },
   "file_extension": ".py",
   "mimetype": "text/x-python",
   "name": "python",
   "nbconvert_exporter": "python",
   "pygments_lexer": "ipython3",
   "version": "3.7.3"
  }
 },
 "nbformat": 4,
 "nbformat_minor": 2
}
