{
 "cells": [
  {
   "cell_type": "markdown",
   "metadata": {},
   "source": [
    "# ECON611 HW2\n",
    "\n",
    "Creator: <em>Junjie Lei</em><br>\n",
    "CreationDate: <em>September 25, 2019</em><br>\n",
    "Title: **ECON611 HW2**\n"
   ]
  },
  {
   "cell_type": "code",
   "execution_count": 98,
   "metadata": {},
   "outputs": [
    {
     "name": "stdout",
     "output_type": "stream",
     "text": [
      "2019-09-25 17:24:49.636122\n"
     ]
    }
   ],
   "source": [
    "# Import necessary packages\n",
    "import datetime\n",
    "import json\n",
    "import pandas as pd\n",
    "import numpy as np\n",
    "import matplotlib as mpl\n",
    "import matplotlib.pyplot as plt\n",
    "from numpy.polynomial.polynomial import polyfit\n",
    "%matplotlib inline\n",
    "\n",
    "currentDT = '2019-09-25 17:24:49.636122'\n",
    "print(str(currentDT))"
   ]
  },
  {
   "cell_type": "code",
   "execution_count": 67,
   "metadata": {},
   "outputs": [],
   "source": [
    "download_image = False\n",
    "mpl.rcParams['figure.dpi'] = 100\n",
    "# plt.style.use('dark_background')"
   ]
  },
  {
   "cell_type": "markdown",
   "metadata": {},
   "source": [
    "## Warm-up"
   ]
  },
  {
   "cell_type": "markdown",
   "metadata": {},
   "source": [
    "## Warm-up 1"
   ]
  },
  {
   "cell_type": "code",
   "execution_count": 102,
   "metadata": {},
   "outputs": [
    {
     "name": "stdout",
     "output_type": "stream",
     "text": [
      "INVALID\n",
      "----------------------------------------------------------------------\n",
      "you input an ODD list,  [1, 2, 3, 4, 5] \n",
      "HALF of the list is\t [1, 2]\n",
      "If we reverse the first half of it~\n",
      "It will become\t [2, 1, 3, 4, 5]\n",
      "----------------------------------------------------------------------\n",
      "you input an ODD list,  [1, 2, 3, 4, 5, 6, 7] \n",
      "HALF of the list is\t [1, 2, 3]\n",
      "If we reverse the first half of it~\n",
      "It will become\t [3, 2, 1, 4, 5, 6, 7]\n",
      "\n",
      "\n",
      "More Generalized Veriosn test case\n",
      "**********************************************************************\n",
      "[2, 1, 3, 4]\n",
      "[3, 2, 1, 4, 5, 6, 7]\n"
     ]
    }
   ],
   "source": [
    "def reverse_half(data):  \n",
    "    \n",
    "    # if the list is empty, termiante the prorgam with ANGRY texts;\n",
    "    if len(data) == 0:\n",
    "        print(\"INVALID\")\n",
    "        return \n",
    "    oddLst = (len(data) % 2 == 0) \n",
    "    \n",
    "    # then, first determines the list is even or odd numbers\n",
    "    if not oddLst:\n",
    "        index = int((len(data) / 2)) # if it is an odd list, we want only the integer part after the divison: i.e: 3.5 --> 3\n",
    "        myLst = data[:index]\n",
    "        print(\"you input an ODD list, \", data, \"\\nHALF of the list is\\t\", myLst)\n",
    "        myLst = myLst[::-1]          # we reverse the first half of the list;\n",
    "        myLst += data[index:]        # list concatenation\n",
    "    else:\n",
    "        index = len(data) // 2       # similar for even lists\n",
    "        myLst = data[:index]\n",
    "        print(\"you input an EVEN list\", data, \"\\nHALF of the list is\\t\", myLst)\n",
    "        myLst = myLst[::-1]\n",
    "        myLst += (data[index:])\n",
    "\n",
    "    print(\"If we reverse the first half of it~\\nIt will become\\t\", myLst)\n",
    "    return myLst\n",
    "\n",
    "\n",
    "\n",
    "# test case:\n",
    "reverse_half([])\n",
    "print('-'*70)\n",
    "\n",
    "reverse_half([1,2,3,4,5]) \n",
    "print(\"-\"*70)\n",
    "\n",
    "reverse_half([1,2,3,4,5,6,7])\n",
    "\n",
    "\n",
    "print('\\n')\n",
    "\n",
    "# ----------------------------------------------------------------------\n",
    "# in the previous code there are many duplication, hence more genralized case:\n",
    "\n",
    "def sliceNreverse(data, index):\n",
    "    f_part = data[:index]\n",
    "    s_part = data[index:]\n",
    "    f_part = f_part[::-1]\n",
    "    return f_part + s_part\n",
    "\n",
    "\n",
    "def reverse_half_improved(data):\n",
    "    # find the first half\n",
    "    even = len(data) // 2\n",
    "    if even:\n",
    "        res = sliceNreverse(data, even)\n",
    "    else:\n",
    "        res = sliceNreverse(data, even - 1)\n",
    "    return res\n",
    "\n",
    "# test case;\n",
    "\n",
    "print('More Generalized Veriosn test case')\n",
    "print('*' * 70)\n",
    "print(reverse_half_improved([1,2,3,4]))\n",
    "print(reverse_half_improved([1,2,3,4,5,6,7]))\n"
   ]
  },
  {
   "cell_type": "markdown",
   "metadata": {},
   "source": [
    "## Warm-up2"
   ]
  },
  {
   "cell_type": "code",
   "execution_count": 69,
   "metadata": {},
   "outputs": [
    {
     "name": "stdout",
     "output_type": "stream",
     "text": [
      "test cases\n",
      "----------------------------------------------------------------------\n",
      "[(1, 'a'), (1, 'b'), (1, 'c'), (1, 'd'), (2, 'a'), (2, 'b'), (2, 'c'), (2, 'd'), (3, 'a'), (3, 'b'), (3, 'c'), (3, 'd'), (4, 'a'), (4, 'b'), (4, 'c'), (4, 'd')]\n"
     ]
    }
   ],
   "source": [
    "# use a nested for loop to iterate through all the sublists\n",
    "def addMall(myLst, myTuple):\n",
    "    outputLst = []\n",
    "    for i in myLst:\n",
    "        for j in myTuple:\n",
    "            outputLst.append((i, j))\n",
    "    return outputLst\n",
    "\n",
    "\n",
    "# test case\n",
    "print('test cases')\n",
    "print('-'*70)\n",
    "print(addMall([1, 2, 3,4], [\"a\", \"b\", \"c\", \"d\"]))\n",
    "\n"
   ]
  },
  {
   "cell_type": "markdown",
   "metadata": {},
   "source": [
    "## Warm up 3"
   ]
  },
  {
   "cell_type": "code",
   "execution_count": 70,
   "metadata": {},
   "outputs": [
    {
     "name": "stdout",
     "output_type": "stream",
     "text": [
      "sublists are: \t [1, 3, 6] & [1, 2, 5, 14]\n",
      "[1, 1, 2, 3, 5, 6, 14]\n"
     ]
    }
   ],
   "source": [
    "# if we are given 2 sorted lists, & we want to get a fianl sorted list with no sublists\n",
    "# so the logic I used is to concate 2 sorted list and sort them use built in sort function in list operation; \n",
    "\n",
    "def addSortedLsts(myLst1, myLst2):\n",
    "    print(\"sublists are: \\t\", myLst1,\"&\", myLst2)\n",
    "    testLst = myLst1 + myLst2\n",
    "    testLst.sort()\n",
    "    return testLst\n",
    "\n",
    "# test case\n",
    "print(addSortedLsts([1, 3, 6], [1, 2, 5, 14]))"
   ]
  },
  {
   "cell_type": "markdown",
   "metadata": {},
   "source": [
    "## Problem 1"
   ]
  },
  {
   "cell_type": "markdown",
   "metadata": {},
   "source": [
    "for the problem 2 instruciton section if all packages are allowed, I will try using packages `Pandas` `Matplotlib` `Numpy` <br>\n",
    "* in case, if outside library is not allowed, I will also wrote ceonventioal way for this problem"
   ]
  },
  {
   "cell_type": "markdown",
   "metadata": {},
   "source": [
    "# first lets visulize the dataset"
   ]
  },
  {
   "cell_type": "code",
   "execution_count": 74,
   "metadata": {},
   "outputs": [
    {
     "data": {
      "image/png": "[encoded data removed]",
      "text/plain": [
       "<Figure size 640x480 with 1 Axes>"
      ]
     },
     "metadata": {},
     "output_type": "display_data"
    }
   ],
   "source": [
    "# this simple plt show the relationship \n",
    "# between 'consumer willingness to pay' & 'the price sellers willingness to sell'\n",
    "plt.style.use('default')\n",
    "plt.scatter('IwillPay', 'price', c='stock', data=df)\n",
    "plt.xlabel('Prices Consumer willingness to pay')\n",
    "plt.ylabel('Price Seller willingness to sell')\n",
    "b, m = polyfit(df['IwillPay'], df['price'], 1)\n",
    "plt.plot(df['IwillPay'], b + m*df['IwillPay'], '-')\n",
    "plt.show()\n",
    "\n",
    "# add a regression line above the plots"
   ]
  },
  {
   "cell_type": "code",
   "execution_count": 72,
   "metadata": {},
   "outputs": [
    {
     "data": {
      "image/png": "[encoded data removed]",
      "text/plain": [
       "<Figure size 600x400 with 1 Axes>"
      ]
     },
     "metadata": {},
     "output_type": "display_data"
    }
   ],
   "source": [
    "# this simple plt just show the price before and after the price changes;\n",
    "plt.style.use('seaborn-dark')\n",
    "totalValue0 = df['total value'].sum()\n",
    "totalValue1 = df1['total value'].sum()\n",
    "names = ['before price changes', 'after price changes']\n",
    "totalValues = [totalValue0, totalValue1]\n",
    "plt.bar(names, totalValues, color=(0.1, 0.1, 0.4, 0.6))\n",
    "plt.show()"
   ]
  },
  {
   "cell_type": "code",
   "execution_count": 63,
   "metadata": {},
   "outputs": [
    {
     "name": "stdout",
     "output_type": "stream",
     "text": [
      "descriptive statistics\n",
      "----------------------------------------------------------------------\n",
      "          item id       stock       price    IwillPay  total value\n",
      "count  100.000000  100.000000  100.000000  100.000000   100.000000\n",
      "mean    49.500000   12.390000   31.452981   29.095432   348.547477\n",
      "std     29.011492    7.282045   31.782095   33.653694   424.189153\n",
      "min      0.000000    0.000000    2.010657    0.000000     0.000000\n",
      "25%     24.750000    6.000000   10.871980    9.191314    98.478614\n",
      "50%     49.500000   14.000000   21.416505   17.816928   221.578218\n",
      "75%     74.250000   19.000000   38.016909   39.265483   471.068006\n",
      "max     99.000000   24.000000  178.676232  185.108844  3117.211452\n",
      "----------------------------------------------------------------------\n",
      "The most expensive product is:\n",
      "     item id  stock       price    IwillPay  total value\n",
      "68       68      7  178.676232  146.625197  1250.733622 \n",
      " ----------------------------------------------------------------------\n",
      "The 3 least cheap prodcuts are:\n",
      "     item id  stock     price  IwillPay  total value\n",
      "5         5     22  2.010657  1.488040    44.234444\n",
      "11       11     13  2.559621  2.684298    33.275076\n",
      "75       75     13  2.658598  3.379287    34.561769 \n",
      " ----------------------------------------------------------------------\n",
      "the total value in this market before the change in price is:\n",
      " 34854.74770273761 \n",
      " ----------------------------------------------------------------------\n",
      "after the changes in the market price, the total value in the target is:\n",
      " 67706.57217511424 \n",
      " ----------------------------------------------------------------------\n"
     ]
    }
   ],
   "source": [
    "with open(\"./hw_2.json\") as f:\n",
    "    data = json.load(f)\n",
    "\n",
    "# transfer all the lists into a Pandas DataFrame\n",
    "df = pd.DataFrame(data)\n",
    "df.columns = ['item id', 'stock', 'price', 'IwillPay']\n",
    "\n",
    "# Create a new col called \"total value\"\n",
    "df[\"total value\"] = df.stock * df.price\n",
    "\n",
    "# print out the descriptive statistics;\n",
    "print(\"descriptive statistics\")\n",
    "print(\"-\" * 70)\n",
    "print(df.describe())\n",
    "print(\"-\"*70)\n",
    "\n",
    "\n",
    "print(\"The most expensive product is:\\n\", df.nlargest(1, 'price'),'\\n',\"-\" * 70)\n",
    "\n",
    "\n",
    "print(\"The 3 least cheap prodcuts are:\\n\", df.nsmallest(3, 'price'),'\\n',\"-\"* 70)\n",
    "\n",
    "print(\"the total value in this market before the change in price is:\\n\",df['total value'].sum(),'\\n',\"-\" * 70)\n",
    "\n",
    "df1 = df.copy()\n",
    "\n",
    "df1.loc[df1['price'] <= 50, 'price'] = 50  # if the price are lower than 50 , I will change them all to 50\n",
    "df1['total value'] = df1.stock * df1.price\n",
    "\n",
    "print(\"after the changes in the market price, the total value in the target is:\\n\",df1['total value'].sum(),'\\n', \"-\" * 70)"
   ]
  },
  {
   "cell_type": "markdown",
   "metadata": {},
   "source": [
    "# Convetional Way"
   ]
  },
  {
   "cell_type": "code",
   "execution_count": 97,
   "metadata": {},
   "outputs": [
    {
     "name": "stdout",
     "output_type": "stream",
     "text": [
      "the most expensive one is\t 178.67623168733564 \n",
      "item_id is:\t 68\n",
      "----------------------------------------------------------------------\n",
      "the cheapest prices are\n",
      " [2.01065653510808, 2.5596212299714503, 2.6585976490665546]\n",
      "their ID are \t [5, 11, 75]\n",
      "----------------------------------------------------------------------\n",
      "the total value in this Target is\n",
      "34854.7477027376\n",
      "----------------------------------------------------------------------\n",
      "after the price has changed, the new total value in this Target is\n",
      " 67706.57217511424\n"
     ]
    }
   ],
   "source": [
    "#1. seperate them into 4 lists\n",
    "item_id = []\n",
    "stock = []\n",
    "price = []\n",
    "I_will_Pay = []\n",
    "total_value = []\n",
    "\n",
    "for i in data:\n",
    "    item_id.append(i[0])\n",
    "    stock.append(i[1])\n",
    "    price.append(i[2])\n",
    "    I_will_Pay.append(i[3])\n",
    "    total_value.append(i[2] * i[1])\n",
    "    \n",
    "# print(len(price))\n",
    "\n",
    "# find the most expensive one \n",
    "print(\"the most expensive one is\\t\", max(price), '\\nitem_id is:\\t', item_id[price.index(max(price))])\n",
    "\n",
    "# find the 3 chepest one\n",
    "def find3Smallest(data, nMin):\n",
    "    dataCp = data[:]  #list are mutable, hence let creates a copy of the contents of the list\n",
    "    three_min_lst = []\n",
    "    for i in range(nMin):\n",
    "        three_min_lst.append(min(dataCp))\n",
    "        dataCp.remove(min(dataCp))\n",
    "\n",
    "    return three_min_lst\n",
    "three_min_lst_val = find3Smallest(price,3)\n",
    "print('-'*70)\n",
    "print(\"the cheapest prices are\\n\",find3Smallest(price, 3))\n",
    "\n",
    "idLst = []\n",
    "for i in three_min_lst_val: \n",
    "    idLst.append(item_id[price.index(i)])\n",
    "\n",
    "print(\"their ID are \\t\", idLst)\n",
    "print('-'*70)\n",
    "\n",
    "# find the total value;\n",
    "print('the total value in this Target is\\n' + str(sum(total_value)))\n",
    "\n",
    "\n",
    "# raise prices in this target \n",
    "for i in range(len(price)):\n",
    "    if price[i] <= 50:\n",
    "        price[i] = 50\n",
    "        \n",
    "new_total_val = 0   \n",
    "for i in range(len(stock)):\n",
    "    new_total_val += price[i] * stock[i]\n",
    "print(\"-\" * 70)\n",
    "print('after the price has changed, the new total value in this Target is\\n', new_total_val)\n"
   ]
  },
  {
   "cell_type": "markdown",
   "metadata": {},
   "source": [
    "# Bouns Question\n",
    "\n",
    "* This question shoule be related to the computer algorthm. commonly refer as big O;\n",
    "* My function below is just listed all the combination in the lists to the target value. But it takes a lot of processing time and power. \n",
    "---\n",
    "* in the code below, I demo with traget value 15, with one list  \n"
   ]
  },
  {
   "cell_type": "code",
   "execution_count": 96,
   "metadata": {},
   "outputs": [
    {
     "name": "stdout",
     "output_type": "stream",
     "text": [
      "sum([3, 5, 7])=15\n",
      "sum([4, 5, 6])=15\n",
      "sum([5, 10])=15\n",
      "None\n"
     ]
    }
   ],
   "source": [
    "def subset_sum(numbers, target, partial=[]):\n",
    "    s = sum(partial)\n",
    "\n",
    "    # check if the partial sum is equals to target\n",
    "    if s == target:\n",
    "        print(\"sum(%s)=%s\" % (partial, target))\n",
    "    if s >= target:\n",
    "        return  # if we reach the number, searching ends\n",
    "\n",
    "    for i in range(len(numbers)):\n",
    "        n = numbers[i]\n",
    "        remaining = numbers[i + 1:]\n",
    "        subset_sum(remaining, target, partial + [n])\n",
    "\n",
    "        \n",
    "# test code\n",
    "print(subset_sum([3,4,5,6,7,10], 15))"
   ]
  },
  {
   "cell_type": "code",
   "execution_count": null,
   "metadata": {},
   "outputs": [],
   "source": []
  }
 ],
 "metadata": {
  "kernelspec": {
   "display_name": "Python 3",
   "language": "python",
   "name": "python3"
  },
  "language_info": {
   "codemirror_mode": {
    "name": "ipython",
    "version": 3
   },
   "file_extension": ".py",
   "mimetype": "text/x-python",
   "name": "python",
   "nbconvert_exporter": "python",
   "pygments_lexer": "ipython3",
   "version": "3.7.3"
  }
 },
 "nbformat": 4,
 "nbformat_minor": 2
}
