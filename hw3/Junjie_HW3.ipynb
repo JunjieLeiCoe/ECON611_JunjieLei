{
 "cells": [
  {
   "cell_type": "markdown",
   "metadata": {},
   "source": [
    "# ECON 611 HW3\n",
    "creationDate: Oct.1 <br>\n",
    "creator: Junjie Lei<br>\n",
    "Title: HW3\n",
    "\n",
    "\n",
    "---\n"
   ]
  },
  {
   "cell_type": "code",
   "execution_count": 12,
   "metadata": {},
   "outputs": [],
   "source": [
    "# import necessary packages\n",
    "import json\n",
    "import sys\n",
    "sys.path.append('..')\n",
    "from util_python.gen_hw_3 import load_data"
   ]
  },
  {
   "cell_type": "markdown",
   "metadata": {},
   "source": [
    "## Warm-up\n",
    "---"
   ]
  },
  {
   "cell_type": "markdown",
   "metadata": {},
   "source": [
    "## Warm-up 1"
   ]
  },
  {
   "cell_type": "code",
   "execution_count": 2,
   "metadata": {},
   "outputs": [],
   "source": [
    "# explain why we use each of the following: \n",
    "# a, lists\n",
    "# b, dictionary\n",
    "# c, sets"
   ]
  },
  {
   "cell_type": "markdown",
   "metadata": {},
   "source": [
    "* Lists, dictionary and sets are basic data structure in Python;<br>\n",
    "* `lists` is mutable, ordereed sequence of elements. <br>\n",
    "Hence lists are great to use when we want to work with many related values. It helps us condese the code and keep data together that belong together. With python function embeded, users can perform the same methods and operations on multiple values at once. <br>\n",
    "* `Dictionary` stores data in key-value pairs and it is immutable. It is useful when in the case order of the data does not matter, and we want to assciate values with keys. <br>\n",
    "* `Sets` requires the data to be hashable and elements in the set cannot be duplicate. Since the data is hashable, it is very fast to locate elemnents in the sets, elements in set is O(1) while in list is O(N).From sets, we can get mathematical operation such as intersection, union, difference, complement..etc. "
   ]
  },
  {
   "cell_type": "markdown",
   "metadata": {},
   "source": [
    "## Warm-up 2"
   ]
  },
  {
   "cell_type": "code",
   "execution_count": 3,
   "metadata": {},
   "outputs": [
    {
     "name": "stdout",
     "output_type": "stream",
     "text": [
      "[2, 3, 4]\n"
     ]
    }
   ],
   "source": [
    "# 2.\n",
    "# Identify all the unique values in the dictionary\n",
    "# inp: inp = {1:2, 2:3, 3:4, 4:2, 5:2}\n",
    "# out: [2 ,3 ,4]\n",
    "inp = {1: 2, 2: 3, 3: 4, 4: 2, 5: 2}\n",
    "\n",
    "# cerate an empty list, if the value is insdie the list; pass\n",
    "# else append the new value into the lsit;\n",
    "def findUnique(inp):\n",
    "   klst = []\n",
    "   for k, v in inp.items():\n",
    "       if v not in klst:\n",
    "           klst.append(v)\n",
    "   return (klst)\n",
    "\n",
    "# test function\n",
    "print(findUnique(inp))"
   ]
  },
  {
   "cell_type": "markdown",
   "metadata": {},
   "source": [
    "## Warm-up 3"
   ]
  },
  {
   "cell_type": "code",
   "execution_count": 4,
   "metadata": {},
   "outputs": [
    {
     "name": "stdout",
     "output_type": "stream",
     "text": [
      "[2, 14]\n"
     ]
    }
   ],
   "source": [
    "# 3.\n",
    "# # return a list of the values of a dictionary when its corresponding key is an integer less than 10.\n",
    "inp = {'Econ': '611', 1: 2, 14: 15, 6: '14'}\n",
    "# out: [2, 14]\n",
    "\n",
    "\n",
    "# because list is immutable during the loop iteration\n",
    "# hence i store all the key,value pair in klst and vlst\n",
    "# Once the loop finds out the key is less than 10, then return all the value list\n",
    "def lessThan10(inp):\n",
    "    klst = []\n",
    "    vlst = []\n",
    "    for k, v in inp.items():\n",
    "        if type(k) is int:\n",
    "            klst.append(k)\n",
    "            if int(k) <= 10:\n",
    "                vlst.append(int(v))    # here I cast the value from str to int to match with the answer key; \n",
    "    return vlst\n",
    "\n",
    "print(lessThan10(inp))\n",
    "\n"
   ]
  },
  {
   "cell_type": "markdown",
   "metadata": {},
   "source": [
    "## Warm-up 4"
   ]
  },
  {
   "cell_type": "code",
   "execution_count": 5,
   "metadata": {},
   "outputs": [
    {
     "name": "stdout",
     "output_type": "stream",
     "text": [
      "********************************************************************** \n",
      "input string counter (dictiaonry) \n",
      "{'I': 1, 'went': 1, 'to': 2, 'school': 1, 'study.': 1}\n",
      "**********************************************************************\n",
      "\n",
      "The max is\n",
      "['to']\n"
     ]
    }
   ],
   "source": [
    "# 4.\n",
    "# Given a string, find the word with the highest count.\n",
    "# a. Separate the string into words\n",
    "# b. keep a count of the words\n",
    "# c. return the word with the highest count\n",
    "inp = \"I went to school to study.\"\n",
    "\n",
    "# # out: \"to: 2\"\n",
    "\n",
    "# I frist split the input string into a list. for each elements in the list, \n",
    "# I count how many times they appear and store them into a dictioary.\n",
    "# key: the strign\n",
    "# value: how many times they appear in the inp\n",
    "\n",
    "def countDict(inp):\n",
    "    myDict = {}\n",
    "    inpLst = inp.split(\" \")\n",
    "    \n",
    "    for i in inpLst:\n",
    "        if i not in myDict.keys():\n",
    "            myDict[i] = 1\n",
    "        else:\n",
    "            myDict[i] += 1\n",
    "    print(\"*\"*70,'\\ninput string counter (dictiaonry) ') \n",
    "    print (myDict)\n",
    "    \n",
    "# find the max values within a dictioanry\n",
    "    max_v = max(myDict.values())\n",
    "    max_k = [k for k,v in myDict.items() if v == max_v]\n",
    "    print('*'*70)\n",
    "    print('\\nThe max is')\n",
    "    \n",
    "    return max_k\n",
    "\n",
    "\n",
    "\n",
    "# test function\n",
    "print(countDict(inp))"
   ]
  },
  {
   "cell_type": "markdown",
   "metadata": {},
   "source": [
    "---"
   ]
  },
  {
   "cell_type": "markdown",
   "metadata": {},
   "source": [
    "# Question\n",
    "---"
   ]
  },
  {
   "cell_type": "code",
   "execution_count": 13,
   "metadata": {},
   "outputs": [
    {
     "name": "stdout",
     "output_type": "stream",
     "text": [
      "{'host_id': 2787, 'neighbourhood_group': 'Brooklyn', 'neighbourhood': 'Kensington', 'price': 149, 'minimum_nights': 1, 'room_type': 'Private room'}\n"
     ]
    }
   ],
   "source": [
    "# glimpse of the dataset fromat\n",
    "data = load_data()\n",
    "print(data['2539'])"
   ]
  },
  {
   "cell_type": "markdown",
   "metadata": {},
   "source": [
    "## 1. a"
   ]
  },
  {
   "cell_type": "code",
   "execution_count": 7,
   "metadata": {},
   "outputs": [
    {
     "name": "stdout",
     "output_type": "stream",
     "text": [
      "{'Brooklyn': 20104, 'Manhattan': 21661, 'Queens': 5666, 'Staten Island': 373, 'Bronx': 1091}\n"
     ]
    }
   ],
   "source": [
    "# create a dictioanry; key is each 'neighbourhood_group' ; while value is the listing count\n",
    "\n",
    "my_Neighbour_Dict = {}\n",
    "for k, v in data.items():\n",
    "\n",
    "   if data[k]['neighbourhood_group'] not in my_Neighbour_Dict:\n",
    "       my_Neighbour_Dict[data[k]['neighbourhood_group']] = 1\n",
    "   else:\n",
    "       my_Neighbour_Dict[data[k]['neighbourhood_group']] += 1\n",
    "\n",
    "print(my_Neighbour_Dict)"
   ]
  },
  {
   "cell_type": "markdown",
   "metadata": {},
   "source": [
    "## 1.b"
   ]
  },
  {
   "cell_type": "code",
   "execution_count": 8,
   "metadata": {},
   "outputs": [
    {
     "name": "stdout",
     "output_type": "stream",
     "text": [
      "{'Private room': 22326, 'Entire home/apt': 25409, 'Shared room': 1160}\n"
     ]
    }
   ],
   "source": [
    "# Print a dictioanry: key is the roomtype while the value is the listing count\n",
    "\n",
    "myRoomTypeDict = {}\n",
    "for k, v in data.items():\n",
    "   if v['room_type'] not in myRoomTypeDict:\n",
    "       myRoomTypeDict[v['room_type']] = 1\n",
    "   else:\n",
    "       myRoomTypeDict[v['room_type']] += 1\n",
    "print(myRoomTypeDict)\n"
   ]
  },
  {
   "cell_type": "markdown",
   "metadata": {},
   "source": [
    "## 2"
   ]
  },
  {
   "cell_type": "markdown",
   "metadata": {},
   "source": [
    "for this homework, I mainly used `Pycharm` as IDE. I think `Jupyternotbook` has some RAM limits when processing the data;<br> Also, I supress all the printing messges to save space, but you can uncomment them to see the results."
   ]
  },
  {
   "cell_type": "code",
   "execution_count": 9,
   "metadata": {},
   "outputs": [],
   "source": [
    "# before data processing\n",
    "\n",
    "# for k,v in data.items():\n",
    "#     print(k)\n",
    "#     print(v)"
   ]
  },
  {
   "cell_type": "markdown",
   "metadata": {},
   "source": [
    "---"
   ]
  },
  {
   "cell_type": "code",
   "execution_count": 14,
   "metadata": {},
   "outputs": [],
   "source": [
    "# the code below can only run once because it will permantly change the format of the dataset\n",
    "# The logic is simple:\n",
    "# I search for each key-value pair in the data; where key is unrelevent numbers, value is a a nested dictionary\n",
    "# I extracted the host id from the nested dictionary and add to a new dictioanry called HostDict;\n",
    "# the value in hostDict is other information; \n",
    "\n",
    "\n",
    "hostDict = {}\n",
    "for k, v in data.items():\n",
    "    if v['host_id'] not in hostDict.keys():\n",
    "        ListOfDict = []\n",
    "        hostID = v['host_id']\n",
    "        del v['host_id']\n",
    "        ListOfDict = [data[k].copy()]\n",
    "        hostDict[hostID] = ListOfDict\n",
    "    else:\n",
    "        hostID = v['host_id']\n",
    "        del v['host_id']\n",
    "        hostDict[hostID].append(data[k].copy())\n",
    "# print(hostDict)"
   ]
  },
  {
   "cell_type": "markdown",
   "metadata": {},
   "source": [
    "---"
   ]
  },
  {
   "cell_type": "code",
   "execution_count": 32,
   "metadata": {},
   "outputs": [
    {
     "name": "stdout",
     "output_type": "stream",
     "text": [
      "host_id 2787:\n",
      " [{'neighbourhood_group': 'Brooklyn', 'neighbourhood': 'Kensington', 'price': 149, 'minimum_nights': 1, 'room_type': 'Private room'}, {'neighbourhood_group': 'Brooklyn', 'neighbourhood': 'Bensonhurst', 'price': 99, 'minimum_nights': 1, 'room_type': 'Private room'}, {'neighbourhood_group': 'Brooklyn', 'neighbourhood': 'Gravesend', 'price': 79, 'minimum_nights': 1, 'room_type': 'Private room'}, {'neighbourhood_group': 'Brooklyn', 'neighbourhood': 'Gravesend', 'price': 149, 'minimum_nights': 1, 'room_type': 'Private room'}, {'neighbourhood_group': 'Brooklyn', 'neighbourhood': 'Bensonhurst', 'price': 79, 'minimum_nights': 1, 'room_type': 'Shared room'}, {'neighbourhood_group': 'Brooklyn', 'neighbourhood': 'Bensonhurst', 'price': 49, 'minimum_nights': 1, 'room_type': 'Private room'}]\n"
     ]
    }
   ],
   "source": [
    "#lets see he results\n",
    "print('host_id 2787:\\n', hostDict[2787])\n",
    "# for k,v in hostDict.items():\n",
    "#     print(k)\n",
    "#     print(v)"
   ]
  },
  {
   "cell_type": "code",
   "execution_count": 17,
   "metadata": {},
   "outputs": [
    {
     "name": "stdout",
     "output_type": "stream",
     "text": [
      "37457 \thosts\n",
      "48895 listings\n",
      "\n",
      "average is\t 1.3053634834610353\n"
     ]
    }
   ],
   "source": [
    "# to get the average;\n",
    "# I used the total listing/numbers of hosts\n",
    "\n",
    "listingCounter = 0\n",
    "hostCounter = 0\n",
    "for k, v in hostDict.items():\n",
    "#    print(v)\n",
    "   listingCounter += len(v)\n",
    "   hostCounter += 1\n",
    "print(hostCounter,'\\thosts')\n",
    "print(listingCounter, 'listings\\n')\n",
    "print('average is\\t',listingCounter / hostCounter)"
   ]
  },
  {
   "cell_type": "markdown",
   "metadata": {},
   "source": [
    "# 3 "
   ]
  },
  {
   "cell_type": "code",
   "execution_count": 49,
   "metadata": {},
   "outputs": [],
   "source": [
    "# in this code I search all the sellers that sell across the borough; --> sellers have multiple listings and sell\n",
    "# in different region\n",
    "# and divide by the total host number\n",
    "\n",
    "counter = 0\n",
    "\n",
    "for k, v in hostDict.items():\n",
    "    if len(v) > 1:\n",
    "        locLst = []\n",
    "        for i in range(len(v)):\n",
    "            locLst.append(v[i]['neighbourhood_group'])\n",
    "            countDict = ({i: locLst.count(i) for i in locLst})  # count in the list how many duplication\n",
    "        if len(countDict) > 1:    # if the host's listing has more than one borough in this countDict, the it means he sells across the brough\n",
    "            counter += 1\n",
    "#             print(countDict)\n",
    "           "
   ]
  },
  {
   "cell_type": "code",
   "execution_count": 50,
   "metadata": {},
   "outputs": [
    {
     "name": "stdout",
     "output_type": "stream",
     "text": [
      "110 hosts sell for more than one location\n",
      "37457 hosts in total\n",
      "0.29367007501935555 % of the hosts sell across, hence hosts often do not sell across borough\n"
     ]
    }
   ],
   "source": [
    "# lets calculate\n",
    "\n",
    "print(counter, 'hosts sell for more than one location')\n",
    "print(hostCounter, 'hosts in total')\n",
    "print( (counter/hostCounter)*100,'%', 'of the hosts sell across, hence hosts often do not sell across borough') \n"
   ]
  },
  {
   "cell_type": "code",
   "execution_count": 51,
   "metadata": {},
   "outputs": [],
   "source": [
    "# same for the room_type counter\n",
    "\n",
    "room_type_counter = 0\n",
    "for k, v in hostDict.items():\n",
    "    if len(v) > 1:\n",
    "        locLst = []\n",
    "        for i in range(len(v)):\n",
    "            locLst.append(v[i]['room_type'])\n",
    "            countDict = {i: locLst.count(i) for i in locLst}\n",
    "#         print(countDict, len(countDict))\n",
    "        if len(countDict) > 1:        \n",
    "             room_type_counter += 1\n",
    "#             print(countDict)"
   ]
  },
  {
   "cell_type": "code",
   "execution_count": 52,
   "metadata": {},
   "outputs": [
    {
     "name": "stdout",
     "output_type": "stream",
     "text": [
      "1486 hosts provide different kinds of rooms\n",
      "37457 total hosts\n",
      "3.967215740716021 % of the hosts sell for more than one kinds of room. hence hosts normally have one types of room\n"
     ]
    }
   ],
   "source": [
    "# let's calculate\n",
    "print(room_type_counter, 'hosts provide different kinds of rooms')\n",
    "print(hostCounter, 'total hosts')\n",
    "\n",
    "print( (room_type_counter/hostCounter)*100, '%', \n",
    "      'of the hosts sell for more than one kinds of room. hence hosts normally have one types of room')"
   ]
  },
  {
   "cell_type": "markdown",
   "metadata": {},
   "source": [
    "## 4"
   ]
  },
  {
   "cell_type": "code",
   "execution_count": 59,
   "metadata": {},
   "outputs": [
    {
     "name": "stdout",
     "output_type": "stream",
     "text": [
      "*********************************************************************************************************************\n",
      "Brooklyn 47\n",
      "Manhattan 32\n",
      "Queens 51\n",
      "Staten Island 43\n",
      "Bronx 48\n",
      "*********************************************************************************************************************\n"
     ]
    }
   ],
   "source": [
    "# for this question; \n",
    "# I created a dicitonary which key is the borough; and value are from all the hosts' neighbourhood;\n",
    "\n",
    "boroughDict = {}\n",
    "neighbourHoodLst = []\n",
    "\n",
    "for k, v in hostDict.items():\n",
    "\n",
    "    for i in range(len(v)):\n",
    "       if v[i]['neighbourhood_group'] not in boroughDict.keys():\n",
    "        boroughDict[v[i]['neighbourhood_group']] = [v[i]['neighbourhood']]\n",
    "       elif v[i]['neighbourhood'] in boroughDict[v[i]['neighbourhood_group']]:\n",
    "           pass\n",
    "       else:\n",
    "           boroughDict[v[i]['neighbourhood_group']].append(v[i]['neighbourhood'])\n",
    "      \n",
    "        \n",
    "print('*' * 117)\n",
    "for k,v in boroughDict.items():\n",
    "    print (k,len(v))\n",
    "print('*'*117)\n",
    "# print(boroughDict)"
   ]
  },
  {
   "cell_type": "markdown",
   "metadata": {},
   "source": [
    "---"
   ]
  }
 ],
 "metadata": {
  "kernelspec": {
   "display_name": "Python 3",
   "language": "python",
   "name": "python3"
  },
  "language_info": {
   "codemirror_mode": {
    "name": "ipython",
    "version": 3
   },
   "file_extension": ".py",
   "mimetype": "text/x-python",
   "name": "python",
   "nbconvert_exporter": "python",
   "pygments_lexer": "ipython3",
   "version": "3.6.5"
  }
 },
 "nbformat": 4,
 "nbformat_minor": 2
}
