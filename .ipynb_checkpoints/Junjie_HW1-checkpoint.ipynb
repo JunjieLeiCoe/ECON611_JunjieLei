{
 "cells": [
  {
   "cell_type": "markdown",
   "metadata": {},
   "source": [
    "\n",
    "JunjieLei ECON611 HW1\n",
    "---"
   ]
  },
  {
   "cell_type": "code",
   "execution_count": 3,
   "metadata": {},
   "outputs": [],
   "source": [
    "# loading packages\n",
    "import json\n",
    "import re"
   ]
  },
  {
   "cell_type": "markdown",
   "metadata": {},
   "source": [
    "## Warm-Up\n",
    "---"
   ]
  },
  {
   "cell_type": "markdown",
   "metadata": {},
   "source": [
    "### warmup 1"
   ]
  },
  {
   "cell_type": "code",
   "execution_count": 22,
   "metadata": {},
   "outputs": [
    {
     "name": "stdout",
     "output_type": "stream",
     "text": [
      "dlrow olleh\n",
      "dlrow olleh\n"
     ]
    }
   ],
   "source": [
    "# 2 ways we can do this \n",
    "inp = \"hello world\"\n",
    "# --------------------------\n",
    "inp = inp[::-1] \n",
    "print(inp)\n",
    "\n",
    "# --------------------------\n",
    "\n",
    "\n",
    "def rverse_wd(inp):\n",
    "    index = 0\n",
    "    indexR = -1\n",
    "    reverse_str = \"\"\n",
    "    \n",
    "    while index < len(inp):\n",
    "        reverse_str += (inp[indexR])\n",
    "        index += 1 \n",
    "        indexR -= 1\n",
    "    return reverse_str\n",
    "\n",
    "\n",
    "\n",
    "# test function\n",
    "inp = \"hello world\"\n",
    "print(rverse_wd(inp))\n"
   ]
  },
  {
   "cell_type": "markdown",
   "metadata": {},
   "source": [
    "### warmup 2"
   ]
  },
  {
   "cell_type": "code",
   "execution_count": 23,
   "metadata": {},
   "outputs": [
    {
     "name": "stdout",
     "output_type": "stream",
     "text": [
      "['hello worldhello worldhello worldhello worldhello worldhello world', 'ECON611abcECON611abcECON611abcECON611abcECON611abcECON611abc', 'defdefdefdefdefdef']\n",
      "['aaaaaa', 'hellohellohellohellohellohello']\n"
     ]
    }
   ],
   "source": [
    "\n",
    "def str6repeat(inp):\n",
    "\n",
    "    mylst = []\n",
    "    index = 0\n",
    "    \n",
    "    while index < len(inp):\n",
    "        mylst.append(inp[index]*6)\n",
    "        index += 1\n",
    "    return mylst\n",
    "\n",
    "\n",
    "\n",
    "# test\n",
    "inp = ['hello world', 'ECON611' 'abc', 'def']\n",
    "print (str6repeat(inp))\n",
    "\n",
    "inp = [\"a\", 'hello']\n",
    "print(str6repeat(inp))\n",
    "    "
   ]
  },
  {
   "cell_type": "markdown",
   "metadata": {},
   "source": [
    "### warmup 3"
   ]
  },
  {
   "cell_type": "code",
   "execution_count": 50,
   "metadata": {},
   "outputs": [
    {
     "name": "stdout",
     "output_type": "stream",
     "text": [
      "[(None, None), ('o', 'o'), ('i', 'i'), ('e', 'e'), ('e', 'u')]\n"
     ]
    }
   ],
   "source": [
    "def find_vowel_head(mystr):\n",
    "    for index_s in range (len(mystr)):\n",
    "        if mystr[index_s] in 'aeiou':\n",
    "            return mystr[index_s]\n",
    "        else:\n",
    "            index_s += 1\n",
    "    return None\n",
    "\n",
    "def find_vowel_tail(mystr):\n",
    "    index_t = -1\n",
    "    while index_t >= -len(mystr):\n",
    "        if mystr[index_t] in 'aeiou':\n",
    "            return mystr[index_t]\n",
    "        else: \n",
    "            index_t -=1\n",
    "    return None\n",
    "\n",
    "def hunt_vowel(inp):\n",
    "    str = inp.split(\" \")\n",
    "    vowelLst = []\n",
    "    \n",
    "    for i in range (0, len(str), 1):\n",
    "        fvowel = find_vowel_head(str[i])\n",
    "        lstvowel = find_vowel_tail(str[i])\n",
    "        myvowel = (fvowel, lstvowel)\n",
    "        vowelLst.append(myvowel)\n",
    "    return vowelLst\n",
    "\n",
    "# Or we can call the rverse_wd function to reverse the order of the word; then we parse the same string for 2 times;\n",
    "\n",
    "\n",
    "   \n",
    "# test    \n",
    "inp = \"my dog is extremely beautiful\"\n",
    "print(hunt_vowel(inp))\n",
    "        \n",
    "    \n"
   ]
  },
  {
   "cell_type": "markdown",
   "metadata": {},
   "source": [
    "### warmup 3"
   ]
  },
  {
   "cell_type": "code",
   "execution_count": 63,
   "metadata": {},
   "outputs": [
    {
     "name": "stdout",
     "output_type": "stream",
     "text": [
      "Econmics\n"
     ]
    }
   ],
   "source": [
    "def rmRepeats(inp):\n",
    "    myLst = []\n",
    "    myStr = ''\n",
    "    \n",
    "    for i in range (0,len(inp),1): \n",
    "        if inp[i].lower() == inp[i-1].lower():   # transfer all to lowercase and check if they are hte same\n",
    "            pass\n",
    "        else: \n",
    "            myStr += inp[i]\n",
    "    return (myStr)\n",
    "\n",
    "    \n",
    "# test\n",
    "inp = \"EeeeeeccccccconnnnnnnnNNNNNNmmmmmMMMMMiiiiiiiIIIIcccCCCCs\"\n",
    "print(rmRepeats(inp))\n",
    "        "
   ]
  },
  {
   "cell_type": "markdown",
   "metadata": {},
   "source": [
    "### Problem 1"
   ]
  },
  {
   "cell_type": "code",
   "execution_count": 165,
   "metadata": {
    "scrolled": true
   },
   "outputs": [
    {
     "name": "stdout",
     "output_type": "stream",
     "text": [
      "------------------------------ MENU ------------------------------\n",
      "welcome! select your choice\n",
      "1.  title\n",
      "2.  authors\n",
      "3.  citations\n",
      "4.  abstract\n",
      "5.  Exit\n",
      "-------------------------------------------------------------------\n",
      "plz enter your selection \n",
      "1\n",
      "[\"Fathers' Multiple-Partner Fertility and Children's Educational Outcomes\"]\n"
     ]
    }
   ],
   "source": [
    "with open(\"./nber.json\", encoding=\"utf8\") as f:\n",
    "    data = json.load(f)\n",
    "    \n",
    "\n",
    "# parse the title\n",
    "def title(data):\n",
    "    title = re.findall(r'<title>(.*?)</title>', data)\n",
    "    return title\n",
    "\n",
    "# parse the dop\n",
    "def dop(data):\n",
    "    dop = re.findall(r'<meta name=\"citation_date\" content=(.*?)>', data)\n",
    "    return dop\n",
    "\n",
    "# authors\n",
    "def cauthors(data):\n",
    "    cauthors = re.findall(r'<meta name=\"citation_author\" content=(.*?)>', data)\n",
    "    return cauthors\n",
    "\n",
    "# abstracts\n",
    "def abst(data):\n",
    "    abst = re.findall(r'<p style=\"margin-left: 40px; margin-right: 40px; text-align: justify\">\\n(.*?)\\n</p>',data[i])\n",
    "    return abst\n",
    "\n",
    "\n",
    "\n",
    "#------------- write it in a function ------------ \n",
    "\n",
    "\n",
    "def parsePaprs(filepath):\n",
    "    with open (filepath, encoding=\"utf8\") as f:\n",
    "        data = json.load(f)\n",
    "        \n",
    "    # data = ''.join(data) \n",
    "    # in this line I want to combine all the elements in the list into a string obj; \n",
    "    # do not need to worry abt the data[index] anymore ;\n",
    "    # however, it does not seems necessary\n",
    "    \n",
    "    print (30 * \"-\" , \"MENU\" , 30 * \"-\")\n",
    "    print (\"welcome! select your choice\")\n",
    "    print (\"1.  title\" )\n",
    "    print (\"2.  authors\")\n",
    "    print (\"3.  citations\")\n",
    "    \n",
    "    print (\"4.  abstract\")\n",
    "    print (\"5.  Exit\")\n",
    "    print (67 * \"-\")\n",
    "    \n",
    "    choice = int(input(\"plz enter your selection \\n\"))\n",
    "    \n",
    "    if choice == 1:\n",
    "        print(title(data[0]))\n",
    "    elif choice == 2:\n",
    "        print(dop(data[0]))\n",
    "    elif choice == 3:\n",
    "        print(cauthors(data[0]))\n",
    "    elif choice == 4: \n",
    "        print(abst(data[1]))\n",
    "    elif choice == 5:\n",
    "        return 1\n",
    "\n",
    "parsePaprs(\"./nber.json\")\n",
    "    \n",
    "\n"
   ]
  }
 ],
 "metadata": {
  "kernelspec": {
   "display_name": "Python 3",
   "language": "python",
   "name": "python3"
  }
 },
 "nbformat": 4,
 "nbformat_minor": 2
}
