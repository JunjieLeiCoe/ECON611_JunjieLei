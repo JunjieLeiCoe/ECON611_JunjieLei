{
 "cells": [
  {
   "cell_type": "markdown",
   "metadata": {},
   "source": [
    "<img src=\"https://images.efollett.com/htmlroot/images/templates/storeLogos/CA/864.gif\" style=\"float: right;\"> \n",
    "\n",
    "\n",
    "\n",
    "\n",
    "# ECON611\n",
    "### HW_4 -  SQL\n",
    "#### Due: Nov 18\n",
    "\n",
    "We will be using the sample databases that come from the DBeaver program (use the Database Installation guide to assist you on installing it). We will be using the sample tables that are provided there. Save your work as a SQL script with answers to specific questions commented out properly labled."
   ]
  },
  {
   "cell_type": "markdown",
   "metadata": {},
   "source": [
    "## 1. Music and Album Data\n",
    "---\n",
    "We will be using the following tables from DBeaver:\n",
    "• Album • Artist • Genre • Track • PlaylistTrack • MediaType"
   ]
  },
  {
   "cell_type": "markdown",
   "metadata": {},
   "source": [
    "## Problems (40 points)\n",
    "---"
   ]
  },
  {
   "cell_type": "markdown",
   "metadata": {},
   "source": [
    "#### A. (5 points). Output a table that has the columns Album Title, Artist, Track Name, Genre, Composer, Length of Song (minutes) \n",
    "---"
   ]
  },
  {
   "cell_type": "markdown",
   "metadata": {},
   "source": [
    "### Q1.A (5pts) \n",
    "---\n",
    "My logic: beacsue there does not exists `right join` or `full outer join` in `SQLite` version, so for this question and all the qs I used `left-join` <br>\n",
    "\n",
    "The first question is just `left join` and select all the cols needed <br>\n",
    "<br>\n",
    "\n",
    "- but I did convert the `t.Milseconds` to `float` data type to make the output in minutes more accurate instead of just one integer\n"
   ]
  },
  {
   "cell_type": "markdown",
   "metadata": {
    "collapsed": true
   },
   "source": [
    "```sql\n",
    "\n",
    "SELECT T.NAME                      AS \"Track Name\",\n",
    "       T.composer,\n",
    "       T.milliseconds * 1. / 60000 AS \"length of music\",\n",
    "       A.title                     AS \"Album Title\",\n",
    "       AR.NAME                     AS \"Artist Name\",\n",
    "       GEN.NAME                    AS \"Genre \"\n",
    "FROM   track AS T\n",
    "       LEFT JOIN album A\n",
    "              ON A.albumid = T.albumid\n",
    "       LEFT JOIN genre GEN\n",
    "              ON T.genreid = GEN.genreid\n",
    "       LEFT JOIN artist AR\n",
    "              ON A.artistid = AR.artistid\n",
    "              \n",
    "              \n",
    "```"
   ]
  },
  {
   "cell_type": "markdown",
   "metadata": {},
   "source": [
    "#### B. (5 points). Output a frequency table for how many letters are in an album title and a song title. (i.e. 3 columns: number of letters, number of album titles with that amount of letters, number of song titles with that amount of letters). What is the average and range of amount of letters?\n",
    "---"
   ]
  },
  {
   "cell_type": "markdown",
   "metadata": {},
   "source": [
    "###  Q2 (5pts) \n",
    "---\n",
    "My logic: \n",
    "I used `subquery` for this question <br> \n",
    "- first, within the subquery, I count letters in the songs/Track.Name \n",
    "- then, in another subquery, I count letters in the Album.Title\n",
    "- I join the previous 2 subqueries using the `left join`\n",
    "- at the end, I display the 3 cols that this question requested;\n",
    "---\n",
    "variable name demostration <br>\n",
    "- `numofchrs` $\\rightarrow$  intersection part of the letter count <br>\n",
    "- `song_name_count` $\\rightarrow$ the letter count of the letter in the Track/song.Name <br>\n",
    "- `album_name_count` $\\rightarrow$ the letter count of the album title <br>\n",
    "since there is no `full outer join` and `right join`, I will just take their intersection part, hence I used `join` instead of `left join`"
   ]
  },
  {
   "cell_type": "markdown",
   "metadata": {
    "collapsed": true
   },
   "source": [
    "```sql \n",
    "SELECT t1.numofchrs,\n",
    "       t1.song_name_count,\n",
    "       t2.album_name_count\n",
    "FROM   (SELECT Length(T.NAME) AS 'NumOfChrs',\n",
    "               Count(*)       AS song_name_count\n",
    "        FROM   track T\n",
    "        GROUP  BY numofchrs\n",
    "        ORDER  BY 1 DESC) t1\n",
    "       JOIN (SELECT Length(AL.title) AS 'NumOfChrsAL',\n",
    "                    Count(*)         AS album_name_count\n",
    "             FROM   album AL\n",
    "             GROUP  BY numofchrsal) t2\n",
    "         ON t1.numofchrs = t2.numofchrsal\n",
    "ORDER  BY 1 DESC\n",
    "\n",
    "\n",
    "```"
   ]
  },
  {
   "cell_type": "markdown",
   "metadata": {},
   "source": [
    "#### C. (10 points). How many songs did each composer write? How many artists composed their own music? Output all of the Artists who had songs that were longer than 2.5 minutes and they did not write their own songs.\n",
    "---"
   ]
  },
  {
   "cell_type": "markdown",
   "metadata": {
    "collapsed": true
   },
   "source": [
    "### Q C .1 \n",
    "---\n",
    "how many songs did each composer write \n",
    "<br>\n",
    "<br>\n",
    "```sql\n",
    "\n",
    "SELECT   Count(*) AS 'Num of songs' ,\n",
    "         composer\n",
    "FROM     track\n",
    "WHERE    composer notnull\n",
    "GROUP BY composer\n",
    "ORDER BY \"Num of songs\" DESC\n",
    "\n",
    "\n",
    "```"
   ]
  },
  {
   "cell_type": "markdown",
   "metadata": {},
   "source": [
    "### Q C .2 \n",
    "--- \n",
    "How many artists composed their own music \n",
    "<br>\n",
    "<br>\n",
    "- becasue sometimes, artists apear to be one of the composers and sometimes, composer appears to belong to one of the artists ; <br>\n",
    "- so by using the `INSTR` function which count if the artist is in the composer col and vice versa (if the composer in the artist col. And the result is stored in the col `if_contains`.\n",
    "\n",
    "\n",
    "```sql\n",
    "SELECT if_contains,\n",
    "       Count(if_contains)\n",
    "FROM   (SELECT T.composer,\n",
    "               Art.NAME,\n",
    "               CASE\n",
    "                 WHEN ( Instr(T.composer, Art.NAME) >= 1 )\n",
    "                       OR ( Instr(Art.NAME, T.composer) >= 1 )THEN 1\n",
    "                 ELSE 0\n",
    "               END AS 'If_contains'\n",
    "        FROM   track T\n",
    "               LEFT JOIN album Al\n",
    "                      ON T.albumid = Al.albumid\n",
    "               LEFT JOIN artist Art\n",
    "                      ON Al.artistid = Art.artistid)\n",
    "GROUP  BY if_contains\n",
    "\n",
    "```"
   ]
  },
  {
   "cell_type": "markdown",
   "metadata": {},
   "source": [
    "### Q C.3 \n",
    "---\n",
    "Output all of the Artists who had songs that were longer than 2.5 minutes and they did not write their own songs.\n",
    "<br>\n",
    "<br>\n",
    "\n",
    "```sql \n",
    "SELECT Count(*)\n",
    "FROM   track T\n",
    "       LEFT JOIN album Al\n",
    "              ON T.albumid = Al.albumid\n",
    "       LEFT JOIN artist Art\n",
    "              ON Al.artistid = Art.artistid\n",
    "WHERE  ( ( Instr(T.composer, Art.NAME) < 1 )\n",
    "          OR Instr(Art.NAME, T.composer) < 1 )\n",
    "       AND T.milliseconds > 150000\n",
    "\n",
    "\n",
    "\n",
    "\n",
    "```\n",
    "\n",
    "\n",
    "\n"
   ]
  },
  {
   "cell_type": "markdown",
   "metadata": {},
   "source": [
    "#### D. (10 points). How many albums contain songs that only have an even number of seconds in the length of the song and the songs are all MPEG audio files?\n",
    "---"
   ]
  },
  {
   "cell_type": "markdown",
   "metadata": {
    "collapsed": true
   },
   "source": [
    "### Q D\n",
    "---\n",
    "- i use a subquery to find all the `album.ablumID` that does not satisfied the requirement\n",
    "- then I use a main query to filter out the `albumid` that not in the query list which subquery provided\n",
    "\n",
    "\n",
    "```sql\n",
    "\n",
    "SELECT al.albumid\n",
    "FROM   album al\n",
    "WHERE  al.albumid NOT IN (SELECT alb.albumid\n",
    "                          FROM   album alb\n",
    "                                 LEFT JOIN track t\n",
    "                                        ON al.albumid = t.albumid\n",
    "                          WHERE  ( t.milliseconds / 1000 ) % 2 != 0\n",
    "                                  OR t.mediatypeid != 1)\n",
    "\n",
    "\n",
    "\n",
    "```\n"
   ]
  },
  {
   "cell_type": "markdown",
   "metadata": {},
   "source": [
    "#### E. (10 points). How large, in terms of Megabytes are each album? On average, how large, in terms of bytes, is a pop song? What is the range and average duration of a heavy metal song in minutes?\n",
    "---"
   ]
  },
  {
   "cell_type": "markdown",
   "metadata": {
    "collapsed": true
   },
   "source": [
    "\n",
    "### E.1 \n",
    "---\n",
    "How large, in terms of Megabytes are each album\n",
    "\n",
    "```sql\n",
    "SELECT t.albumid, \n",
    "       t.bytes / 1048576           AS MB, \n",
    "       Sum(t.bytes * 1. / 1048576) AS MB_size \n",
    "FROM   track t \n",
    "       LEFT JOIN album al \n",
    "              ON t.albumid = al.albumid \n",
    "GROUP  BY al.albumid \n",
    "\n",
    "```"
   ]
  },
  {
   "cell_type": "markdown",
   "metadata": {},
   "source": [
    "### E.2 \n",
    "---\n",
    "On average, how large, in terms of bytes, is a pop song\n",
    "<br> \n",
    "\n",
    "\n",
    "```sql\n",
    "SELECT Avg(T.bytes)\n",
    "FROM   track T\n",
    "       LEFT JOIN genre Gen\n",
    "              ON T.genreid = Gen.genreid\n",
    "WHERE  Gen.NAME LIKE ( 'Pop' )\n",
    "\n",
    "\n",
    "\n",
    "\n",
    "```\n"
   ]
  },
  {
   "cell_type": "markdown",
   "metadata": {},
   "source": [
    "## 2. Customer Data\n",
    "---\n",
    "We will be using the following tables from DBeaver:\n",
    "• Customer • Invoice • InvoiceLine • Album • Artist • Genre • Track • PlaylistTrack • MediaType"
   ]
  },
  {
   "cell_type": "markdown",
   "metadata": {},
   "source": [
    "## Problems (40 points)\n",
    "---"
   ]
  },
  {
   "cell_type": "markdown",
   "metadata": {},
   "source": [
    "#### A. (5 points). Output a table that shows the number of customers in each city, and also have shows the state and country that the city is located in.\n",
    "---"
   ]
  },
  {
   "cell_type": "code",
   "execution_count": null,
   "metadata": {
    "collapsed": true
   },
   "outputs": [],
   "source": []
  },
  {
   "cell_type": "markdown",
   "metadata": {},
   "source": [
    "#### B. (10 points). How much in total was spent on music per year? What is the average amount a person spent on music in a year? What is the average amount a person with a gmail account spent on music in a year?\n",
    "---"
   ]
  },
  {
   "cell_type": "code",
   "execution_count": null,
   "metadata": {
    "collapsed": true
   },
   "outputs": [],
   "source": []
  },
  {
   "cell_type": "markdown",
   "metadata": {},
   "source": [
    "#### C. (10 points). What year-month combination had the most spending on music? Which year-month combi- nation had the most money spent on pop music?\n",
    "---"
   ]
  },
  {
   "cell_type": "code",
   "execution_count": null,
   "metadata": {
    "collapsed": true
   },
   "outputs": [],
   "source": []
  },
  {
   "cell_type": "markdown",
   "metadata": {},
   "source": [
    "#### D. (10 points). What genre has the most songs bought that are in the pop genre? What is the total money spent on these songs? Which customer is spending the most on pop songs?\n",
    "---"
   ]
  },
  {
   "cell_type": "code",
   "execution_count": null,
   "metadata": {
    "collapsed": true
   },
   "outputs": [],
   "source": []
  },
  {
   "cell_type": "markdown",
   "metadata": {},
   "source": [
    "#### E. (10 points). Output how many songs each artist is selling in each country? Who is selling the post outside of the US? On average, how many songs is each artist selling outside of the US?\n",
    "---"
   ]
  },
  {
   "cell_type": "code",
   "execution_count": null,
   "metadata": {
    "collapsed": true
   },
   "outputs": [],
   "source": []
  },
  {
   "cell_type": "markdown",
   "metadata": {},
   "source": [
    "## 3. Window Functions (20 points)\n",
    "---"
   ]
  },
  {
   "cell_type": "markdown",
   "metadata": {},
   "source": [
    "#### A. (10 points). Return a list of Customers that assigns a sequential integer to each customer and resets the number when the country of the customer changes for Customers are not from Canada and Brazil and whose email address have `yahoo` or `gmail'\n",
    "---"
   ]
  },
  {
   "cell_type": "code",
   "execution_count": null,
   "metadata": {
    "collapsed": true
   },
   "outputs": [],
   "source": []
  },
  {
   "cell_type": "markdown",
   "metadata": {},
   "source": [
    "#### B. (10 points). Compute the rank for each track in each album based on the track’s length, then append all the tracks that have a lengthrank of 2 and 4 \n",
    "---"
   ]
  },
  {
   "cell_type": "code",
   "execution_count": null,
   "metadata": {
    "collapsed": true
   },
   "outputs": [],
   "source": []
  },
  {
   "cell_type": "markdown",
   "metadata": {},
   "source": [
    "## BONUS (20 points)\n",
    "---\n",
    "- Using SQLITE syntax [make your own SQLITE table](https://www.sqlitetutorial.net/sqlite-create-table/) and set of data. You will need to create a table of 5 columns and 10 rows containing any information you find interesting. (5 points)\n",
    "- You should create/import your table need to [dbeaver](https://docs.roguewave.com/en/zendstudio/current/content/create_manage_database_with_dbeaver.htm). (5 points)\n",
    "- Perform 3 different calculations using your data in order to tell a story of your data set. (10 points)\n",
    "\n",
    "** FEEL FREE TO USE/EXPLORE OTHER SOURCES**"
   ]
  },
  {
   "cell_type": "code",
   "execution_count": null,
   "metadata": {
    "collapsed": true
   },
   "outputs": [],
   "source": []
  }
 ],
 "metadata": {
  "kernelspec": {
   "display_name": "Python 3",
   "language": "python",
   "name": "python3"
  },
  "language_info": {
   "codemirror_mode": {
    "name": "ipython",
    "version": 3
   },
   "file_extension": ".py",
   "mimetype": "text/x-python",
   "name": "python",
   "nbconvert_exporter": "python",
   "pygments_lexer": "ipython3",
   "version": "3.6.5"
  }
 },
 "nbformat": 4,
 "nbformat_minor": 2
}
