{
 "cells": [
  {
   "cell_type": "markdown",
   "metadata": {},
   "source": [
    "<img src=\"https://images.efollett.com/htmlroot/images/templates/storeLogos/CA/864.gif\" style=\"float: right;\"> \n",
    "\n",
    "\n",
    "\n",
    "\n",
    "# ECON611\n",
    "### HW_4 -  SQL\n",
    "#### Due: Nov 18\n",
    "\n",
    "We will be using the sample databases that come from the DBeaver program (use the Database Installation guide to assist you on installing it). We will be using the sample tables that are provided there. Save your work as a SQL script with answers to specific questions commented out properly labled."
   ]
  },
  {
   "cell_type": "markdown",
   "metadata": {},
   "source": [
    "## 1. Music and Album Data\n",
    "---\n",
    "We will be using the following tables from DBeaver:\n",
    "• Album • Artist • Genre • Track • PlaylistTrack • MediaType"
   ]
  },
  {
   "cell_type": "markdown",
   "metadata": {},
   "source": [
    "## Problems (40 points)\n",
    "---"
   ]
  },
  {
   "cell_type": "markdown",
   "metadata": {},
   "source": [
    "#### A. (5 points). Output a table that has the columns Album Title, Artist, Track Name, Genre, Composer, Length of Song (minutes) \n",
    "---"
   ]
  },
  {
   "cell_type": "markdown",
   "metadata": {},
   "source": [
    "### Q A (5pts) My answer: \n",
    "---\n",
    "My logic: beacsue there does not exists `right join` or `full outer join` in `SQLite` version, so for this question and all the qs I used `left-join` <br>\n",
    "\n",
    "The first question is just `left join` and select all the cols needed <br>\n",
    "<br>\n",
    "\n",
    "- but I did convert the `t.Milseconds` to `float` data type to make the output in minutes more accurate instead of just one integer\n"
   ]
  },
  {
   "cell_type": "markdown",
   "metadata": {
    "collapsed": true
   },
   "source": [
    "```sql\n",
    "\n",
    "SELECT T.NAME                      AS \"Track Name\",\n",
    "       T.composer,\n",
    "       T.milliseconds * 1. / 60000 AS \"length of music\",\n",
    "       A.title                     AS \"Album Title\",\n",
    "       AR.NAME                     AS \"Artist Name\",\n",
    "       GEN.NAME                    AS \"Genre \"\n",
    "FROM   track AS T\n",
    "       LEFT JOIN album A\n",
    "              ON A.albumid = T.albumid\n",
    "       LEFT JOIN genre GEN\n",
    "              ON T.genreid = GEN.genreid\n",
    "       LEFT JOIN artist AR\n",
    "              ON A.artistid = AR.artistid\n",
    "              \n",
    "              \n",
    "```"
   ]
  },
  {
   "cell_type": "markdown",
   "metadata": {},
   "source": [
    "#### B. (5 points). Output a frequency table for how many letters are in an album title and a song title. (i.e. 3 columns: number of letters, number of album titles with that amount of letters, number of song titles with that amount of letters). What is the average and range of amount of letters?\n",
    "---"
   ]
  },
  {
   "cell_type": "markdown",
   "metadata": {},
   "source": [
    "###  Q B (5pts)  My Answer: \n",
    "\n",
    "---\n",
    "Output a frequency table for how many letters are in an album title and a song title. (i.e. 3 columns: number of letters, number of album titles with that amount of letters, number of song titles with that amount of letters). <br>\n",
    "\n",
    "My logic: \n",
    "I used `subquery` for this question <br> \n",
    "- first, within the subquery, I count letters in the songs/Track.Name \n",
    "- then, in another subquery, I count letters in the Album.Title\n",
    "- I join the previous 2 subqueries using the `left join`\n",
    "- at the end, I display the 3 cols that this question requested;\n",
    "---\n",
    "variable name demostration <br>\n",
    "- `numofchrs` $\\rightarrow$  intersection part of the letter count <br>\n",
    "- `song_name_count` $\\rightarrow$ the letter count of the letter in the Track/song.Name <br>\n",
    "- `album_name_count` $\\rightarrow$ the letter count of the album title <br>\n",
    "since there is no `full outer join` and `right join`, I will just take their intersection part, hence I used `join` instead of `left join`"
   ]
  },
  {
   "cell_type": "markdown",
   "metadata": {
    "collapsed": true
   },
   "source": [
    "### Q B.1\n",
    "--- \n",
    "Output a frequency table for how many letters are in an album title and a song title. (i.e. 3 columns: number of letters, number of album titles with that amount of letters, number of song titles with that amount of letters\n",
    "\n",
    "\n",
    "<br>\n",
    "<br>\n",
    "\n",
    "```sql \n",
    "SELECT t1.numofchrs,\n",
    "       t1.song_name_count,\n",
    "       t2.album_name_count\n",
    "FROM   (SELECT Length(T.NAME) AS 'NumOfChrs',\n",
    "               Count(*)       AS song_name_count\n",
    "        FROM   track T\n",
    "        GROUP  BY numofchrs\n",
    "        ORDER  BY 1 DESC) t1\n",
    "       JOIN (SELECT Length(AL.title) AS 'NumOfChrsAL',\n",
    "                    Count(*)         AS album_name_count\n",
    "             FROM   album AL\n",
    "             GROUP  BY numofchrsal) t2\n",
    "         ON t1.numofchrs = t2.numofchrsal\n",
    "ORDER  BY 1 DESC\n",
    "\n",
    "\n",
    "```"
   ]
  },
  {
   "cell_type": "markdown",
   "metadata": {},
   "source": [
    "Q B.2 \n",
    "---\n",
    "\n",
    "What is the average and range of amount of letters?\n",
    "\n",
    "<br>\n",
    "<br>\n",
    "\n",
    "\n",
    "```sql\n",
    "SELECT Avg(( T.milliseconds * 1. ) / 60000),\n",
    "       ( Max(T.milliseconds) - Min(T.milliseconds) ) * 1. / 60000 AS Rng\n",
    "FROM   track T\n",
    "       LEFT JOIN genre Gen\n",
    "              ON T.genreid = Gen.genreid\n",
    "WHERE  Gen.NAME = 'Heavy Metal'\n",
    "\n",
    "\n",
    "\n",
    "```\n",
    "\n",
    "\n",
    "\n"
   ]
  },
  {
   "cell_type": "markdown",
   "metadata": {},
   "source": [
    "#### C. (10 points). How many songs did each composer write? How many artists composed their own music? Output all of the Artists who had songs that were longer than 2.5 minutes and they did not write their own songs.\n",
    "---"
   ]
  },
  {
   "cell_type": "markdown",
   "metadata": {
    "collapsed": true
   },
   "source": [
    "### Q C .1 My Anwers:\n",
    "---\n",
    "how many songs did each composer write \n",
    "<br>\n",
    "<br>\n",
    "```sql\n",
    "\n",
    "SELECT   Count(*) AS 'Num of songs' ,\n",
    "         composer\n",
    "FROM     track\n",
    "WHERE    composer notnull\n",
    "GROUP BY composer\n",
    "ORDER BY \"Num of songs\" DESC\n",
    "\n",
    "\n",
    "```"
   ]
  },
  {
   "cell_type": "markdown",
   "metadata": {},
   "source": [
    "### Q C .2 \n",
    "--- \n",
    "How many artists composed their own music \n",
    "<br>\n",
    "<br>\n",
    "- becasue sometimes, artists apear to be one of the composers and sometimes, composer appears to belong to one of the artists ; <br>\n",
    "- so by using the `INSTR` function which count if the artist is in the composer col and vice versa (if the composer in the artist col. And the result is stored in the col `if_contains`.\n",
    "\n",
    "\n",
    "```sql\n",
    "SELECT if_contains,\n",
    "       Count(if_contains)\n",
    "FROM   (SELECT T.composer,\n",
    "               Art.NAME,\n",
    "               CASE\n",
    "                 WHEN ( Instr(T.composer, Art.NAME) >= 1 )\n",
    "                       OR ( Instr(Art.NAME, T.composer) >= 1 )THEN 1\n",
    "                 ELSE 0\n",
    "               END AS 'If_contains'\n",
    "        FROM   track T\n",
    "               LEFT JOIN album Al\n",
    "                      ON T.albumid = Al.albumid\n",
    "               LEFT JOIN artist Art\n",
    "                      ON Al.artistid = Art.artistid)\n",
    "GROUP  BY if_contains\n",
    "\n",
    "```"
   ]
  },
  {
   "cell_type": "markdown",
   "metadata": {},
   "source": [
    "### Q C.3 \n",
    "---\n",
    "Output all of the Artists who had songs that were longer than 2.5 minutes and they did not write their own songs.\n",
    "<br>\n",
    "<br>\n",
    "\n",
    "```sql \n",
    "SELECT Count(*)\n",
    "FROM   track T\n",
    "       LEFT JOIN album Al\n",
    "              ON T.albumid = Al.albumid\n",
    "       LEFT JOIN artist Art\n",
    "              ON Al.artistid = Art.artistid\n",
    "WHERE  ( ( Instr(T.composer, Art.NAME) < 1 )\n",
    "          OR Instr(Art.NAME, T.composer) < 1 )\n",
    "       AND T.milliseconds > 150000\n",
    "\n",
    "\n",
    "\n",
    "\n",
    "```\n",
    "\n",
    "\n",
    "\n"
   ]
  },
  {
   "cell_type": "markdown",
   "metadata": {},
   "source": [
    "#### D. (10 points). How many albums contain songs that only have an even number of seconds in the length of the song and the songs are all MPEG audio files?\n",
    "---"
   ]
  },
  {
   "cell_type": "markdown",
   "metadata": {
    "collapsed": true
   },
   "source": [
    "### Q D My Answers: \n",
    "---\n",
    "- I use a subquery to find all the `album.ablumID` that does not satisfied the requirement\n",
    "- then I use a main query to filter out the `albumid` that not in the query list which subquery provided\n",
    "\n",
    "\n",
    "```sql\n",
    "\n",
    "SELECT al.albumid\n",
    "FROM   album al\n",
    "WHERE  al.albumid NOT IN (SELECT alb.albumid\n",
    "                          FROM   album alb\n",
    "                                 LEFT JOIN track t\n",
    "                                        ON al.albumid = t.albumid\n",
    "                          WHERE  ( t.milliseconds / 1000 ) % 2 != 0\n",
    "                                  OR t.mediatypeid != 1)\n",
    "\n",
    "\n",
    "\n",
    "```\n"
   ]
  },
  {
   "cell_type": "markdown",
   "metadata": {},
   "source": [
    "#### E. (10 points). How large, in terms of Megabytes are each album? On average, how large, in terms of bytes, is a pop song? What is the range and average duration of a heavy metal song in minutes?\n",
    "---"
   ]
  },
  {
   "cell_type": "markdown",
   "metadata": {
    "collapsed": true
   },
   "source": [
    "\n",
    "### E.1  My  Answers\n",
    "---\n",
    "How large, in terms of Megabytes are each album\n",
    "\n",
    "```sql\n",
    "SELECT t.albumid, \n",
    "       t.bytes / 1048576           AS MB, \n",
    "       Sum(t.bytes * 1. / 1048576) AS MB_size \n",
    "FROM   track t \n",
    "       LEFT JOIN album al \n",
    "              ON t.albumid = al.albumid \n",
    "GROUP  BY al.albumid \n",
    "\n",
    "```"
   ]
  },
  {
   "cell_type": "markdown",
   "metadata": {},
   "source": [
    "### E.2 \n",
    "---\n",
    "On average, how large, in terms of bytes, is a pop song\n",
    "<br> \n",
    "\n",
    "\n",
    "```sql\n",
    "SELECT Avg(T.bytes)\n",
    "FROM   track T\n",
    "       LEFT JOIN genre Gen\n",
    "              ON T.genreid = Gen.genreid\n",
    "WHERE  Gen.NAME LIKE ( 'Pop' )\n",
    "\n",
    "\n",
    "\n",
    "\n",
    "```\n"
   ]
  },
  {
   "cell_type": "markdown",
   "metadata": {},
   "source": [
    "### E.3 \n",
    "What is the range and average duration of a heavy metal song in minutes?\n",
    "\n",
    "---\n",
    "\n",
    "```sql \n",
    "\n",
    "SELECT Avg(( T.milliseconds * 1. ) / 60000)                       AS Minute_, \n",
    "       ( Max(T.milliseconds) - Min(T.milliseconds) ) * 1. / 60000 AS Rng \n",
    "FROM   track T \n",
    "       LEFT JOIN genre Gen \n",
    "              ON T.genreid = Gen.genreid \n",
    "WHERE  Gen.NAME = 'Heavy Metal' \n",
    "\n",
    "\n",
    "\n",
    "```\n",
    "\n"
   ]
  },
  {
   "cell_type": "markdown",
   "metadata": {},
   "source": [
    "## 2. Customer Data\n",
    "---\n",
    "We will be using the following tables from DBeaver:\n",
    "• Customer • Invoice • InvoiceLine • Album • Artist • Genre • Track • PlaylistTrack • MediaType"
   ]
  },
  {
   "cell_type": "markdown",
   "metadata": {},
   "source": [
    "## Problems (40 points)\n",
    "---"
   ]
  },
  {
   "cell_type": "markdown",
   "metadata": {},
   "source": [
    "#### A. (5 points). Output a table that shows the number of customers in each city, and also have shows the state and country that the city is located in.\n",
    "---"
   ]
  },
  {
   "cell_type": "markdown",
   "metadata": {
    "collapsed": true
   },
   "source": [
    "### Q A  My Answer:\n",
    "---\n",
    "Output a table that shows the number of customers in each city\n",
    "<br>\n",
    "```sql\n",
    "\n",
    "SELECT Count(*),\n",
    "       state,\n",
    "       country\n",
    "FROM   customer\n",
    "WHERE  state IS NOT NULL\n",
    "GROUP  BY city,\n",
    "          state,\n",
    "          country\n",
    "\n",
    "```"
   ]
  },
  {
   "cell_type": "markdown",
   "metadata": {},
   "source": [
    "#### B. (10 points). How much in total was spent on music per year? What is the average amount a person spent on music in a year? What is the average amount a person with a gmail account spent on music in a year?\n",
    "---"
   ]
  },
  {
   "cell_type": "markdown",
   "metadata": {
    "collapsed": true
   },
   "source": [
    "### B.1\n",
    "--- \n",
    " How much in total was spent on music per year? \n",
    " \n",
    " \n",
    " ```sql\n",
    " SELECT Strftime('%Y', i.invoicedate) AS year_index, \n",
    "       Sum(i.total) \n",
    "FROM   invoice i \n",
    "GROUP  BY year_index \n",
    "\n",
    " ```"
   ]
  },
  {
   "cell_type": "markdown",
   "metadata": {},
   "source": [
    "### B.2\n",
    "--- \n",
    "What is the average amount a person spent on music in a year\n",
    "\n",
    "```sql\n",
    "SELECT t1.year_index, \n",
    "       t1.total_spending / t1.total_cust AS year_avg_spending \n",
    "FROM   (SELECT Strftime('%Y', i.invoicedate) AS year_index, \n",
    "               Sum(i.total)                  AS total_spending, \n",
    "               Count(DISTINCT customerid)    AS total_cust \n",
    "        FROM   invoice i \n",
    "        GROUP  BY year_index) t1 \n",
    "GROUP  BY year_index \n",
    "```\n"
   ]
  },
  {
   "cell_type": "markdown",
   "metadata": {},
   "source": [
    "### B.3  \n",
    "---\n",
    "What is the average amount a person with a gmail account spent on music in a year\n",
    "\n",
    "```sql\n",
    "SELECT t1.year_index, \n",
    "       t1.total_spending / t1.total_cust AS year_avg_spending \n",
    "FROM   (SELECT Strftime('%Y', i.invoicedate) AS year_index, \n",
    "               Sum(i.total)                  AS total_spending, \n",
    "               Count(DISTINCT i.customerid)  AS total_cust \n",
    "        FROM   invoice i \n",
    "               LEFT JOIN customer cust \n",
    "                      ON cust.customerid = I.customerid \n",
    "        WHERE  cust.email LIKE ( '%gmail%' ) \n",
    "        GROUP  BY year_index) t1 \n",
    "GROUP  BY year_index \n",
    "```"
   ]
  },
  {
   "cell_type": "markdown",
   "metadata": {},
   "source": [
    "#### C. (10 points). What year-month combination had the most spending on music? Which year-month combi- nation had the most money spent on pop music?\n",
    "---"
   ]
  },
  {
   "cell_type": "markdown",
   "metadata": {
    "collapsed": true
   },
   "source": [
    "### C.1 \n",
    "--- \n",
    "What year-month combination had the most spending on music?\n",
    "\n",
    "```sql\n",
    "SELECT Strftime('%Y-%m', i.invoicedate) AS year_index, \n",
    "       Sum(i.total)                     AS spend_on_music \n",
    "FROM   invoice i \n",
    "       LEFT JOIN customer cust \n",
    "              ON cust.customerid = I.customerid \n",
    "GROUP  BY year_index \n",
    "ORDER  BY spend_on_music DESC \n",
    "```\n"
   ]
  },
  {
   "cell_type": "markdown",
   "metadata": {},
   "source": [
    "### C.2\n",
    "---\n",
    "Which year-month combi- nation had the most money spent on `pop` music?\n",
    "```sql\n",
    "SELECT Strftime('%Y-%m', i.invoicedate) AS year_mth_index, \n",
    "       gen.NAME, \n",
    "       i.invoiceid, \n",
    "       Sum(i.total)                     AS pop_sum \n",
    "FROM   invoiceline AS IL \n",
    "       LEFT JOIN invoice AS I \n",
    "              ON IL.invoiceid = I.invoiceid \n",
    "       LEFT JOIN track T \n",
    "              ON T.trackid = IL.trackid \n",
    "       LEFT JOIN genre Gen \n",
    "              ON Gen.genreid = T.genreid \n",
    "WHERE  Gen.NAME = 'Pop' \n",
    "GROUP  BY year_mth_index \n",
    "ORDER  BY pop_sum DESC\n",
    "    \n",
    "       \n",
    "```\n",
    "\n"
   ]
  },
  {
   "cell_type": "markdown",
   "metadata": {},
   "source": [
    "#### D. (10 points). What artists has the most songs bought that are in the pop genre? What is the total money spent on these songs? Which customer is spending the most on pop songs?\n",
    "---"
   ]
  },
  {
   "cell_type": "markdown",
   "metadata": {
    "collapsed": true
   },
   "source": [
    "### D \n",
    "---\n",
    "What artists has the most songs bought that are in the pop genre?\n",
    "<br>\n",
    "\n",
    "```sql\n",
    "\n",
    "SELECT arts.NAME,\n",
    "       Count(*)     AS amt_songs,\n",
    "       Sum(I.total) AS total_spending,\n",
    "       cust.firstname,\n",
    "       cust.lastname\n",
    "FROM   invoiceline AS IL\n",
    "       LEFT JOIN invoice AS I\n",
    "              ON IL.invoiceid = I.invoiceid\n",
    "       LEFT JOIN customer AS cust\n",
    "              ON cust.customerid = I.customerid\n",
    "       LEFT JOIN track T\n",
    "              ON T.trackid = IL.trackid\n",
    "       LEFT JOIN genre Gen\n",
    "              ON Gen.genreid = T.albumid\n",
    "       LEFT JOIN album Al\n",
    "              ON Al.albumid = T.albumid\n",
    "       LEFT JOIN artist arts\n",
    "              ON arts.artistid = AL.artistid\n",
    "WHERE  Gen.NAME = 'Pop'\n",
    "GROUP  BY arts.NAME\n",
    "ORDER BY Total_Spending DESC\n",
    "```\n",
    "\n"
   ]
  },
  {
   "cell_type": "markdown",
   "metadata": {},
   "source": [
    "#### E. (10 points). Output how many songs each artist is selling in each country? Who is selling the post outside of the US? On average, how many songs is each artist selling outside of the US?\n",
    "---"
   ]
  },
  {
   "cell_type": "markdown",
   "metadata": {
    "collapsed": true
   },
   "source": [
    "### E.1\n",
    "---\n",
    "<br>\n",
    "Output how many songs each artist is selling in each country\n",
    "```sql\n",
    "\n",
    "SELECT Count(DISTINCT t.trackid) AS counter, \n",
    "       t.trackid, \n",
    "       arts.NAME, \n",
    "       cust.country \n",
    "FROM   invoiceline AS IL \n",
    "       LEFT JOIN invoice AS I \n",
    "              ON IL.invoiceid = I.invoiceid \n",
    "       LEFT JOIN customer AS cust \n",
    "              ON cust.customerid = I.customerid \n",
    "       LEFT JOIN track T \n",
    "              ON T.trackid = IL.trackid \n",
    "       LEFT JOIN genre Gen \n",
    "              ON Gen.genreid = T.albumid \n",
    "       LEFT JOIN album Al \n",
    "              ON Al.albumid = T.albumid \n",
    "       LEFT JOIN artist arts \n",
    "              ON arts.artistid = AL.artistid \n",
    "GROUP  BY arts.artistid, \n",
    "          cust.country  \n",
    "```"
   ]
  },
  {
   "cell_type": "markdown",
   "metadata": {},
   "source": [
    "### E.2\n",
    "---\n",
    "Who is selling the most outside of the US?\n",
    "<br>\n",
    "\n",
    "\n",
    "```sql\n",
    "SELECT Sum(t1.track_counter) AS sum_tracks, \n",
    "       t1.NAME \n",
    "FROM   (SELECT Count(DISTINCT t.trackid) AS Track_counter, \n",
    "               t.trackid, \n",
    "               arts.NAME, \n",
    "               cust.country \n",
    "        FROM   invoiceline AS IL \n",
    "               LEFT JOIN invoice AS I \n",
    "                      ON IL.invoiceid = I.invoiceid \n",
    "               LEFT JOIN customer AS cust \n",
    "                      ON cust.customerid = I.customerid \n",
    "               LEFT JOIN track T \n",
    "                      ON T.trackid = IL.trackid \n",
    "               LEFT JOIN genre Gen \n",
    "                      ON Gen.genreid = T.albumid \n",
    "               LEFT JOIN album Al \n",
    "                      ON Al.albumid = T.albumid \n",
    "               LEFT JOIN artist arts \n",
    "                      ON arts.artistid = AL.artistid \n",
    "        GROUP  BY arts.artistid, \n",
    "                  cust.country) t1 \n",
    "GROUP  BY t1.NAME \n",
    "ORDER BY sum_tracks DESC\n",
    "\n",
    "```"
   ]
  },
  {
   "cell_type": "markdown",
   "metadata": {},
   "source": [
    "### E.3\n",
    "---\n",
    " On average, how many songs is each artist selling outside of the US\n",
    "\n",
    "\n",
    "```sql\n",
    "SELECT Sum(t2.sum_tracks) * 1. / Count(DISTINCT t2.NAME) * 1. \n",
    "FROM   (SELECT Sum(t1.track_counter) AS sum_tracks, \n",
    "               t1.NAME \n",
    "        FROM   (SELECT Count(DISTINCT t.trackid) AS Track_counter, \n",
    "                       t.trackid, \n",
    "                       arts.NAME, \n",
    "                       cust.country \n",
    "                FROM   invoiceline AS IL \n",
    "                       LEFT JOIN invoice AS I \n",
    "                              ON IL.invoiceid = I.invoiceid \n",
    "                       LEFT JOIN customer AS cust \n",
    "                              ON cust.customerid = I.customerid \n",
    "                       LEFT JOIN track T \n",
    "                              ON T.trackid = IL.trackid \n",
    "                       LEFT JOIN genre Gen \n",
    "                              ON Gen.genreid = T.albumid \n",
    "                       LEFT JOIN album Al \n",
    "                              ON Al.albumid = T.albumid \n",
    "                       LEFT JOIN artist arts \n",
    "                              ON arts.artistid = AL.artistid \n",
    "                GROUP  BY arts.artistid, \n",
    "                          cust.country) t1 \n",
    "        GROUP  BY t1.NAME \n",
    "        ORDER  BY sum_tracks DESC) t2 \n",
    "\n",
    "          \n",
    "\n",
    "          \n",
    "```\n"
   ]
  },
  {
   "cell_type": "markdown",
   "metadata": {},
   "source": [
    "## 3. Window Functions (20 points)\n",
    "---"
   ]
  },
  {
   "cell_type": "markdown",
   "metadata": {},
   "source": [
    "#### A. (10 points). Return a list of Customers that assigns a sequential integer to each customer and resets the number when the country of the customer changes for Customers are not from Canada and Brazil and whose email address have `yahoo` or `gmail'\n",
    "---"
   ]
  },
  {
   "cell_type": "markdown",
   "metadata": {},
   "source": [
    "### A.1\n",
    "---\n",
    "\n",
    "<br>\n",
    "assign row number to different custmers \n",
    "\n",
    "\n",
    "```sql\n",
    "SELECT cust.customerid, \n",
    "       Row_number() \n",
    "         OVER ( \n",
    "           ORDER BY cust.customerid) \n",
    "FROM   customer cust \n",
    "```\n",
    "\n",
    "\n",
    "### A.2\n",
    "---\n",
    "<br>\n",
    "reset the row number when both condition is met / filter out cols; \n",
    "```sql\n",
    "SELECT cust.customerid, \n",
    "       cust.country, \n",
    "       cust.email,\n",
    "       Row_number() \n",
    "         OVER ( \n",
    "           partition BY cust.Country \n",
    "         ) AS reset_col \n",
    "FROM   customer cust\n",
    "WHERE cust.country NOT IN ('Canada', 'Brazil') AND \n",
    "         (cust.email LIKE ('%gmail%') OR cust.email LIKE ('%yahoo%'))\n",
    "```\n"
   ]
  },
  {
   "cell_type": "markdown",
   "metadata": {
    "collapsed": true
   },
   "source": []
  },
  {
   "cell_type": "markdown",
   "metadata": {},
   "source": [
    "#### B. (10 points). Compute the rank for each track in each album based on the track’s length, then append all the tracks that have a lengthrank of 2 and 4 \n",
    "---"
   ]
  },
  {
   "cell_type": "markdown",
   "metadata": {
    "collapsed": true
   },
   "source": [
    "### B \n",
    "---\n",
    "\n",
    "```sql\n",
    "SELECT *\n",
    "FROM   (SELECT NAME,\n",
    "               milliseconds,\n",
    "               albumid,\n",
    "               Dense_rank()\n",
    "                 OVER (\n",
    "                   partition BY albumid\n",
    "                   ORDER BY milliseconds) lenRank\n",
    "        FROM   track)\n",
    "WHERE  lenrank = 2\n",
    "        OR lenrank = 4\n",
    "\n",
    "```"
   ]
  },
  {
   "cell_type": "markdown",
   "metadata": {},
   "source": [
    "## BONUS (20 points)\n",
    "---\n",
    "- Using SQLITE syntax [make your own SQLITE table](https://www.sqlitetutorial.net/sqlite-create-table/) and set of data. You will need to create a table of 5 columns and 10 rows containing any information you find interesting. (5 points)\n",
    "- You should create/import your table need to [dbeaver](https://docs.roguewave.com/en/zendstudio/current/content/create_manage_database_with_dbeaver.htm). (5 points)\n",
    "- Perform 3 different calculations using your data in order to tell a story of your data set. (10 points)\n",
    "\n",
    "** FEEL FREE TO USE/EXPLORE OTHER SOURCES**"
   ]
  },
  {
   "cell_type": "markdown",
   "metadata": {
    "collapsed": true
   },
   "source": [
    "\n",
    "1. create my own table\n",
    "---\n",
    "\n",
    "- create a $10 \\times 5$ table\n",
    "\n",
    "```sql\n",
    "CREATE TABLE leagueoflegends_champion \n",
    "  ( \n",
    "     cham_id       INTEGER PRIMARY KEY, \n",
    "     champion_name TEXT NOT NULL, \n",
    "     win_rate      FLOAT NOT NULL, \n",
    "     game_played   INTEGER NOT NULL, \n",
    "     kda           TEXT NOT NULL \n",
    "  ) \n",
    "  \n",
    "  \n",
    "\n",
    "```\n",
    "\n"
   ]
  },
  {
   "cell_type": "markdown",
   "metadata": {},
   "source": [
    "2. create or import table need to `dbeaver` "
   ]
  },
  {
   "cell_type": "markdown",
   "metadata": {},
   "source": [
    "3. perform 3 different calculation using your data in order to tell a story of the dataset"
   ]
  }
 ],
 "metadata": {
  "kernelspec": {
   "display_name": "Python 3",
   "language": "python",
   "name": "python3"
  },
  "language_info": {
   "codemirror_mode": {
    "name": "ipython",
    "version": 3
   },
   "file_extension": ".py",
   "mimetype": "text/x-python",
   "name": "python",
   "nbconvert_exporter": "python",
   "pygments_lexer": "ipython3",
   "version": "3.6.5"
  }
 },
 "nbformat": 4,
 "nbformat_minor": 2
}
